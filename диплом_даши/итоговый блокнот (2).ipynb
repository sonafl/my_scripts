{
 "cells": [
  {
   "cell_type": "code",
   "execution_count": 34,
   "id": "7ca4a44b",
   "metadata": {},
   "outputs": [],
   "source": [
    "import pandas as pd\n",
    "import seaborn as sns\n",
    "import numpy as np\n",
    "import matplotlib.pyplot as plt\n",
    "data = pd.read_excel('КАНОН ЭМИГРАЦИИ 2025.xlsx')"
   ]
  },
  {
   "cell_type": "markdown",
   "id": "c336ed62",
   "metadata": {},
   "source": [
    "# Очистка датасета "
   ]
  },
  {
   "cell_type": "code",
   "execution_count": 36,
   "id": "802ba4a9",
   "metadata": {},
   "outputs": [
    {
     "data": {
      "text/plain": [
       "array(['фольклор', 'Мономах', 'Курбский, Грозный', 'Кантемир А.Д.',\n",
       "       'Ломоносов М.В.', 'Сумароков А.П.', 'Фонвизин Д.И.',\n",
       "       'Державин Г.Р.', 'Аблесимов А.О.', 'Дмитриев И.И.',\n",
       "       'Карамзин Н.М.', 'Крылов И.А.', 'Грибоедов А.С.', 'Гончаров И.А.',\n",
       "       'Жуковский В.А.', 'Пушкин А.С.', 'Лермонтов М.Ю.', 'Гоголь Н.В.',\n",
       "       'Белинский В.Г.', 'Аксаков С.Т.', 'Тургенев И.С.', 'Некрасов Н.А.',\n",
       "       'Добролюбов Н.А.', 'Островский А.Н.', 'Толстой Л.Н.',\n",
       "       'Надсон С.Я.', 'Меч С.', 'Толстой А.К.', 'Бунин И.А.',\n",
       "       'Козлов И.И.', 'Кольцов А.В.', 'Черный А.', 'Сиповский В.',\n",
       "       'Шевченко Т.', 'Суриков И.З.', 'Хомяков В.', 'Глинка Ф.Н.',\n",
       "       'Башкин В.В. ', 'Языков Н.М.', 'Навроцкий А.А.', 'Мей Л.А.',\n",
       "       'Губер Э.И.', 'Никитин И.С.', 'Немирович-Данченко В.И.',\n",
       "       'undefined', 'Майков В.И.', 'Серафимович А.С.', 'Ключевский В.О.',\n",
       "       'Мережковский Д.С.', 'Майков А.Н. ', 'Полонский Я.П.',\n",
       "       'Устрялов Н.Г.', 'Горкий М.', 'Дрожжин С.Д.',\n",
       "       'Мельников-Печерский П.И.', 'Розенгейм М.П.', 'Мамин-Сибиряк Д.Н.',\n",
       "       'Короленко В.Г.', 'Гольц-Миллер И.И.', 'Достоевский Ф.М.',\n",
       "       'Плетнев П.А.', 'Чехов А.П.', 'Толстой А.Н.', 'Маковский С.К.',\n",
       "       'Оболенский Л.Е.', 'Даль А.А.', 'Блок А.А.', 'Баранцевич К.С.',\n",
       "       'Шуф А.', 'Куприн А.И.', 'Григорович Д.В.', 'Столица Л.Н.',\n",
       "       'Авенариус В.П.', 'Тютчев Ф.Ф.', 'Голищев- Кутузов А.',\n",
       "       'Тютчев Ф.И.', 'Фет А.А.', 'Федоров А.', 'Жадовская Ю.В.',\n",
       "       'К.Р. (Константин Романов)', 'Краснов П.Н.', 'Бальмонт К.Д.',\n",
       "       'Соловьева П.С.', 'Нестор', 'Котошихин Г.', 'Аваакум',\n",
       "       'Посошков И.Т.', 'Петр I', 'Татищев В.Н.', 'Суворов А.В.',\n",
       "       'Орлов-Чесменский А.Г.', 'Неплюев И.И.', 'Данилов М..',\n",
       "       'Долгорукова Н.Б.', 'Тредиаковский В.К.', 'Херасков М.М.',\n",
       "       'Ржевский А.А.', 'Хемницер И.И.', 'Богданович', 'Болотов',\n",
       "       'Цицицанов', 'Екатерина II', 'Новиков Н.И.', 'Радищев А.Н.',\n",
       "       'Щербатов М.М.', 'Капнист В.В.', 'Шаликов П.И.',\n",
       "       'Нелединский-Мелецкий Ю.А.', 'Пушкин В.Л.', 'Озеров В.А.',\n",
       "       'Шишков А.С.', 'Макаров П.И.', 'Эзоп (Толстой Л.Н.)',\n",
       "       'Лессинг (Жуковский В.А.)', 'Измайлов А.Е.', 'Сологуб Ф.К.',\n",
       "       'Салтыков-Щедрин М.Е.', 'Андреев Л.Н.', 'Горький М.',\n",
       "       'Фофанов К.М.', 'Боборыкин П.Д.', 'Загоскин М.Н.', 'Лесков Н.С.',\n",
       "       'Галина (Ринкс Г.А.)', 'Брюсов В.Я', 'Чернышевский Н.Г.',\n",
       "       'Гарин Н.Г.', 'Есенин С.А.', 'Майков А.Н.', 'Фовизин Д.И.',\n",
       "       'Кульман Н.', 'Амфитеатров А.В.', 'Шмелев И.С.', 'Зайцев Б.К.',\n",
       "       'Ладыженский В.Н.', 'Лукаш И.', 'Ремизов А.М.', 'Рощин Н.Я.',\n",
       "       'Тэффи Н.А.', 'Чириков Е.Н.', 'Осоргин М.', 'Зензинов З.М.',\n",
       "       'Яблонский А.А.', 'Флоровский Г.В.', 'Лаговский И. А.',\n",
       "       'Билибин И.Я.', 'Зеньковский В.В.', 'Вышеславцев Б.П.',\n",
       "       'Александрович А.Д.', 'Пильняк Б.', 'Зощенко М.', 'Минский Н.М.',\n",
       "       'Хомяков А.С.', 'Крандиевская Н.В.', 'Плещеев А.Н.',\n",
       "       'Коринфский А.А.', 'Вяземский П.А.', 'Огарев Н.П.',\n",
       "       'Эренбург И.Г.', 'Жемчужников А.М.', 'Городецкий С.М.',\n",
       "       'Гиппиус З.Н.', 'Апухтин А.Н.', 'Толмачева М.Л.', 'Поздняков Н.Ф.',\n",
       "       'Бажина С.Н.', 'Дмитриева В.И.', 'Модзалевский Л.Н.',\n",
       "       'Ушинский К.Д.', 'Данилевский Г.П.', 'Журавская З.Н.',\n",
       "       'Шведер Е.М.', 'Погосский А.Ф.', 'Туманский Ф.А.', 'Елич Е.',\n",
       "       'Кайгородов Д.Н.', 'Гаршин В.М.', 'Белоусов И.А.', 'Кедрова А.',\n",
       "       'Берг Н.В.', 'Сологуб В.А.', 'Телешов Н.Д.',\n",
       "       'Котомкин-Савинский А.Е.', 'Семенов П.', 'де Амичис Э.',\n",
       "       'Андерсен Г.Х.', 'Вересаев В.В.', 'Смирнова В.А.', 'Аспазия',\n",
       "       'Беляевская О.А.', 'Пожарова М.А.', 'Моравская М.Л.',\n",
       "       'Северянин И.', 'Белый А.', 'Чюмина О.Н.', 'Гринченко Б.Д.',\n",
       "       'Даль В.И.', 'Морозов Н.А.', 'Буслаев Ф.И.', 'Егоров Я.Е.',\n",
       "       'Петерсон К.А.', 'Беранже', 'Баратынский Е.А.', 'Михайлов А.К.',\n",
       "       'Слепцов М.', 'Скворцов Н.', 'Грот Я.К.', 'Поливанов Л.И.',\n",
       "       'Лукашевич К.В.', 'Никольский', 'Семеко', 'Студицкий А.Е.',\n",
       "       'Блинов', 'Греков Н.П.', 'Лопатин О.', 'Мамонтов', 'Вагнер',\n",
       "       'Алтаев', 'Разин', 'Герд А.Я.', 'Свободин М.',\n",
       "       'Гарин-Михайловский Н.Г.', 'Писемский А.Ф.', 'Медведев Л.',\n",
       "       'Аксаков К.С.', 'Богданов М.', 'Яириков Е.Н.', 'Альбов М.',\n",
       "       'Горак Я.', 'Юшкевич С.С', 'Златовратский Н.', 'Михайлов Н.',\n",
       "       'Пестряков', 'Водовозова Е.Н.', 'Величко В.Л.', 'Чуковский К.И.',\n",
       "       'Рюкерт', 'Фелеров В.', 'Деркачев', 'Льдов К.', 'Маршак С.Я.',\n",
       "       'Неверов А.С.', 'Новиков И.А.', 'Водовозов В.И.', 'Замойский П.И.',\n",
       "       'Орлов', 'Лебедева', 'Кальма', 'Насимович А.Ф.', 'Трушков',\n",
       "       'Мирович', 'Одоевский В.Ф.', 'Бостром', 'Барышев', 'Садовников',\n",
       "       'Быков', 'Н.П.', 'Засодимский П.В.', 'Полонская Е.Г.',\n",
       "       'Чумаченко А.А.', 'Яковлев А.', 'Тараховская Е.Я.', 'Шмидт',\n",
       "       'Горбунова Е.', 'Вьюгова С.', 'Радич', 'Сысоев',\n",
       "       'Соколов-Микитов И.С.', 'Ананьин В.', 'Аллунан Ю.', 'Грин А.',\n",
       "       'Смирнов В.', 'Саулиет А.', 'Вальда', 'Бригадер А.', 'Спрудж А.',\n",
       "       'Ефименко А.', 'Цыганов Н.', 'Бианки В.В.', 'Севернй С.',\n",
       "       'Клокова М.П.', 'Манасеина Н.И', 'В.А-н', 'Толмачев', 'Дуров А.',\n",
       "       'Митчель Л.', 'Лебедев', 'Г.М.', 'Аксаков И.С.', 'Ершов П.',\n",
       "       'Марков Е.', 'Хотымский', 'Плудон В.', 'Яунсудрабань Я.',\n",
       "       'Вирза Е.', 'Лацис В.', 'Волкова Е.', 'Полевой К.'], dtype=object)"
      ]
     },
     "execution_count": 36,
     "metadata": {},
     "output_type": "execute_result"
    }
   ],
   "source": [
    "data['author'].unique()"
   ]
  },
  {
   "cell_type": "code",
   "execution_count": 37,
   "id": "ab8a7d00",
   "metadata": {},
   "outputs": [],
   "source": [
    "def probel(x):\n",
    "    if ' ' in str(x):\n",
    "        return x.strip()\n",
    "    else:\n",
    "        return x\n",
    "    \n",
    "for i in data.columns:\n",
    "    data[i] = data[i].apply(probel)"
   ]
  },
  {
   "cell_type": "code",
   "execution_count": 38,
   "id": "7cb33cf8",
   "metadata": {},
   "outputs": [],
   "source": [
    "def under(x):\n",
    "    if 'underf' in str(x) or 'ndef' in str(x) or '' == str(x):\n",
    "        return np.nan\n",
    "    else:\n",
    "        return x\n",
    "for i in data.columns:\n",
    "    data[i] = data[i].apply(under)"
   ]
  },
  {
   "cell_type": "code",
   "execution_count": 5,
   "id": "8d4e8435",
   "metadata": {},
   "outputs": [],
   "source": [
    "data['author'] = data['author'].apply(lambda x : x[:x.find('.')+1] + x[x.find('.')+2:] if '.' in str(x) else x)"
   ]
  },
  {
   "cell_type": "code",
   "execution_count": 6,
   "id": "af70166e",
   "metadata": {},
   "outputs": [],
   "source": [
    "data.to_excel('данные_обновление.xlsx')"
   ]
  },
  {
   "cell_type": "code",
   "execution_count": 39,
   "id": "653efeb9",
   "metadata": {},
   "outputs": [],
   "source": [
    "data = data.fillna('undefined')"
   ]
  },
  {
   "cell_type": "code",
   "execution_count": 40,
   "id": "980b8e91",
   "metadata": {},
   "outputs": [
    {
     "data": {
      "text/plain": [
       "295"
      ]
     },
     "execution_count": 40,
     "metadata": {},
     "output_type": "execute_result"
    }
   ],
   "source": [
    "# Сколько у нас уникальных авторов - без фольклора и без нанов\n",
    "data[~data['author'].isin(['undefined', 'фольклор'])]['author'].nunique()"
   ]
  },
  {
   "cell_type": "code",
   "execution_count": 41,
   "id": "225316e1",
   "metadata": {},
   "outputs": [
    {
     "data": {
      "text/plain": [
       "1286"
      ]
     },
     "execution_count": 41,
     "metadata": {},
     "output_type": "execute_result"
    }
   ],
   "source": [
    "# Сколько уникальных произведений - с фольклрором без нанов\n",
    "data[~data['author'].isin(['undefined'])]['text'].nunique()"
   ]
  },
  {
   "cell_type": "code",
   "execution_count": 10,
   "id": "a020561e",
   "metadata": {},
   "outputs": [
    {
     "data": {
      "text/plain": [
       "поэзия          52.149230\n",
       "проза           44.768856\n",
       "undefined        1.662612\n",
       "драма            1.216545\n",
       "критика          0.121655\n",
       "публицистика     0.081103\n",
       "Name: kind_of_literature, dtype: float64"
      ]
     },
     "execution_count": 10,
     "metadata": {},
     "output_type": "execute_result"
    }
   ],
   "source": [
    "data['kind_of_literature'].value_counts(normalize=True)*100"
   ]
  },
  {
   "cell_type": "markdown",
   "id": "43fb7021",
   "metadata": {},
   "source": [
    "# Обычный топ - просто частота - 20"
   ]
  },
  {
   "cell_type": "code",
   "execution_count": 48,
   "id": "4237884d",
   "metadata": {},
   "outputs": [],
   "source": [
    "top_20 = data[data['author']!='undefined']['author'].value_counts()[0:20]"
   ]
  },
  {
   "cell_type": "code",
   "execution_count": 52,
   "id": "0fccf9ec",
   "metadata": {},
   "outputs": [
    {
     "data": {
      "image/png": "[encoded data removed]",
      "text/plain": [
       "<Figure size 1080x720 with 1 Axes>"
      ]
     },
     "metadata": {
      "needs_background": "light"
     },
     "output_type": "display_data"
    }
   ],
   "source": [
    "fig, ax = plt.subplots(figsize=[15,10])\n",
    "top_20 = data[data['author']!='undefined']['author'].value_counts()[0:20]\n",
    "ax.barh(data[data['author']!='undefined']['author'].value_counts()[0:20].index, data[data['author']!='undefined']['author'].value_counts()[0:20], color = 'pink')\n",
    "ax.set_title('Какие авторы вошли в школьный литературный канон первой волны эмиграции?', fontsize=18)\n",
    "ax.set_ylabel('Имена авторов', fontsize=13)\n",
    "ax.set_xlabel('Частота вхождения в данные', fontsize=13)\n",
    "for i in data[data['author']!='undefined']['author'].value_counts()[0:20].index:\n",
    "    if i in peers[peers['author']!='undefined']['author'].to_list() and i not in ['Пушкин А.С.', 'Тургенев И.С.', 'Никитин И.С.', 'Некрасов Н.А.']:\n",
    "        ax.patches[(data[data['author']!='undefined']['author'].value_counts()[0:20].index).to_list().index(i)].set_color('red')\n",
    "plt.show()"
   ]
  },
  {
   "cell_type": "markdown",
   "id": "f17d8b1a",
   "metadata": {},
   "source": [
    "# Популярные по вхождению в разные хрестоматиии"
   ]
  },
  {
   "cell_type": "code",
   "execution_count": 54,
   "id": "f73dd209",
   "metadata": {},
   "outputs": [],
   "source": [
    "df=pd.DataFrame(columns=['author', 'count'])\n",
    "for i in data[data['author']!='undefined']['author'].unique():\n",
    "    df.loc[ len(df.index )] = [i, data[data['author'] == i][[' compiler', 'kind_of_book']].value_counts().rename({'kind_of_book':'count'}).reset_index()['kind_of_book'].shape[0]]"
   ]
  },
  {
   "cell_type": "code",
   "execution_count": 55,
   "id": "dd89c0ff",
   "metadata": {},
   "outputs": [
    {
     "data": {
      "image/png": "[encoded data removed]",
      "text/plain": [
       "<Figure size 1080x720 with 1 Axes>"
      ]
     },
     "metadata": {
      "needs_background": "light"
     },
     "output_type": "display_data"
    }
   ],
   "source": [
    "df=df.sort_values('count', ascending=False)[0:20]\n",
    "fig, ax = plt.subplots(figsize=[15,10])\n",
    "ax.barh(df['author'], df['count'], color = 'pink')\n",
    "ax.set_title('Популярные авторы по вхождению в разные учебные книги', fontsize=18)\n",
    "ax.set_ylabel('Имена авторов', fontsize=13)\n",
    "ax.set_xlabel('Частота вхождения в данные', fontsize=13)\n",
    "for i in df['author'].to_list():\n",
    "    if i in peers['author'].to_list() and i not in ['Пушкин А.С.', 'Тургенев И.С.', 'Никитин И.С.', 'Крылов И.А', 'Тютчев Ф.И.', 'Некрасов Н.А.']:\n",
    "        ax.patches[(df['author']).to_list().index(i)].set_color('red')\n",
    "plt.show()"
   ]
  },
  {
   "cell_type": "markdown",
   "id": "64e3306e",
   "metadata": {},
   "source": [
    "# Частота произведений авторов популярных в топе ВЫШЕ"
   ]
  },
  {
   "cell_type": "code",
   "execution_count": 8,
   "id": "b19c755f",
   "metadata": {},
   "outputs": [],
   "source": [
    "df_top=pd.DataFrame(columns=['author', 'text', 'count'])\n",
    "for i in data['author'].unique():\n",
    "    for item in data[data['author'] == i]['text'].unique():\n",
    "        df_top.loc[ len(df_top.index )] = [i,  item, data[(data['author'] == i) & (data['text'] == item)].shape[0]]"
   ]
  },
  {
   "cell_type": "code",
   "execution_count": 9,
   "id": "27216659",
   "metadata": {},
   "outputs": [
    {
     "data": {
      "text/html": [
       "<div>\n",
       "<style scoped>\n",
       "    .dataframe tbody tr th:only-of-type {\n",
       "        vertical-align: middle;\n",
       "    }\n",
       "\n",
       "    .dataframe tbody tr th {\n",
       "        vertical-align: top;\n",
       "    }\n",
       "\n",
       "    .dataframe thead th {\n",
       "        text-align: right;\n",
       "    }\n",
       "</style>\n",
       "<table border=\"1\" class=\"dataframe\">\n",
       "  <thead>\n",
       "    <tr style=\"text-align: right;\">\n",
       "      <th></th>\n",
       "      <th>author</th>\n",
       "      <th>text</th>\n",
       "      <th>count</th>\n",
       "    </tr>\n",
       "  </thead>\n",
       "  <tbody>\n",
       "    <tr>\n",
       "      <th>0</th>\n",
       "      <td>фольклор</td>\n",
       "      <td>За рекою, за быстрою</td>\n",
       "      <td>4</td>\n",
       "    </tr>\n",
       "    <tr>\n",
       "      <th>1</th>\n",
       "      <td>фольклор</td>\n",
       "      <td>песни бытовые</td>\n",
       "      <td>4</td>\n",
       "    </tr>\n",
       "    <tr>\n",
       "      <th>2</th>\n",
       "      <td>фольклор</td>\n",
       "      <td>Не шуми, мати, зеленая дубравушка</td>\n",
       "      <td>1</td>\n",
       "    </tr>\n",
       "    <tr>\n",
       "      <th>3</th>\n",
       "      <td>фольклор</td>\n",
       "      <td>Солнце, Мороз и Ветер</td>\n",
       "      <td>1</td>\n",
       "    </tr>\n",
       "    <tr>\n",
       "      <th>4</th>\n",
       "      <td>фольклор</td>\n",
       "      <td>Морозко</td>\n",
       "      <td>5</td>\n",
       "    </tr>\n",
       "    <tr>\n",
       "      <th>...</th>\n",
       "      <td>...</td>\n",
       "      <td>...</td>\n",
       "      <td>...</td>\n",
       "    </tr>\n",
       "    <tr>\n",
       "      <th>1659</th>\n",
       "      <td>Лацис В.</td>\n",
       "      <td>Большой улов</td>\n",
       "      <td>1</td>\n",
       "    </tr>\n",
       "    <tr>\n",
       "      <th>1660</th>\n",
       "      <td>Сиповский В.</td>\n",
       "      <td>Единоборство</td>\n",
       "      <td>1</td>\n",
       "    </tr>\n",
       "    <tr>\n",
       "      <th>1661</th>\n",
       "      <td>Волкова Е.</td>\n",
       "      <td>Первый русский печатник</td>\n",
       "      <td>1</td>\n",
       "    </tr>\n",
       "    <tr>\n",
       "      <th>1662</th>\n",
       "      <td>Ключевский В.</td>\n",
       "      <td>Придворный учитель</td>\n",
       "      <td>1</td>\n",
       "    </tr>\n",
       "    <tr>\n",
       "      <th>1663</th>\n",
       "      <td>Полевой К.</td>\n",
       "      <td>Ради науки</td>\n",
       "      <td>1</td>\n",
       "    </tr>\n",
       "  </tbody>\n",
       "</table>\n",
       "<p>1664 rows × 3 columns</p>\n",
       "</div>"
      ],
      "text/plain": [
       "             author                               text count\n",
       "0          фольклор               За рекою, за быстрою     4\n",
       "1          фольклор                      песни бытовые     4\n",
       "2          фольклор  Не шуми, мати, зеленая дубравушка     1\n",
       "3          фольклор              Солнце, Мороз и Ветер     1\n",
       "4          фольклор                            Морозко     5\n",
       "...             ...                                ...   ...\n",
       "1659       Лацис В.                       Большой улов     1\n",
       "1660   Сиповский В.                       Единоборство     1\n",
       "1661     Волкова Е.            Первый русский печатник     1\n",
       "1662  Ключевский В.                 Придворный учитель     1\n",
       "1663     Полевой К.                         Ради науки     1\n",
       "\n",
       "[1664 rows x 3 columns]"
      ]
     },
     "execution_count": 9,
     "metadata": {},
     "output_type": "execute_result"
    }
   ],
   "source": [
    "df_top"
   ]
  },
  {
   "cell_type": "code",
   "execution_count": 16,
   "id": "f903db05",
   "metadata": {},
   "outputs": [],
   "source": [
    "df_top = df_top[df_top['author'].isin(top_20.index)]"
   ]
  },
  {
   "cell_type": "code",
   "execution_count": 17,
   "id": "2e7cdaf9",
   "metadata": {},
   "outputs": [],
   "source": [
    "df_top.to_excel('частота_произведений_20_популярных_авторов.xlsx')"
   ]
  },
  {
   "cell_type": "markdown",
   "id": "cf7f0409",
   "metadata": {},
   "source": [
    "# Современники"
   ]
  },
  {
   "cell_type": "code",
   "execution_count": 43,
   "id": "51bd60be",
   "metadata": {},
   "outputs": [],
   "source": [
    "def now_time(x):\n",
    "    try:\n",
    "        x = float(x)\n",
    "    except ValueError:\n",
    "        if  '-' in x and int(x.split('-')[1]) >= 1895:\n",
    "            return 1\n",
    "        else:\n",
    "            return 0\n",
    "    else:\n",
    "        if x >= 1895:\n",
    "            return 1\n",
    "        else:\n",
    "            return 0\n",
    "\n",
    "data['peers_authors'] = data['year'].apply(now_time)"
   ]
  },
  {
   "cell_type": "code",
   "execution_count": 44,
   "id": "e7343d3c",
   "metadata": {},
   "outputs": [
    {
     "data": {
      "text/plain": [
       "0    2213\n",
       "1     253\n",
       "Name: peers_authors, dtype: int64"
      ]
     },
     "execution_count": 44,
     "metadata": {},
     "output_type": "execute_result"
    }
   ],
   "source": [
    "data['peers_authors'].value_counts()"
   ]
  },
  {
   "cell_type": "markdown",
   "id": "6f74234a",
   "metadata": {},
   "source": [
    "# топ-10 современников - ОБЩАЯ ЧАСТОТА И ПОПУЛЯРНОСТЬ"
   ]
  },
  {
   "cell_type": "code",
   "execution_count": 45,
   "id": "45a84f7b",
   "metadata": {},
   "outputs": [
    {
     "data": {
      "image/png": "[encoded data removed]",
      "text/plain": [
       "<Figure size 1080x720 with 1 Axes>"
      ]
     },
     "metadata": {
      "needs_background": "light"
     },
     "output_type": "display_data"
    }
   ],
   "source": [
    "fig, ax = plt.subplots(figsize=[15,10])\n",
    "peers = data[(data['peers_authors'] == 1) & (~data['author'].str.contains('Короленко')) &  (~data['author'].str.contains('Мамин'))]\n",
    "peers_top = peers['author'].value_counts()[0:10]\n",
    "ax.barh(peers_top.index, peers_top, color = 'pink')\n",
    "ax.set_title('Какие авторы-современники вошли в школьный литературный канон первой волны эмиграции?', fontsize=18)\n",
    "ax.set_ylabel('Имена авторов', fontsize=13)\n",
    "ax.set_xlabel('Частота вхождения в данные', fontsize=13)\n",
    "plt.show()"
   ]
  },
  {
   "cell_type": "code",
   "execution_count": null,
   "id": "e0870760",
   "metadata": {},
   "outputs": [],
   "source": []
  },
  {
   "cell_type": "markdown",
   "id": "01f772c3",
   "metadata": {},
   "source": [
    "# ТОП - 10 СОВРЕМЕННИКОВ ВХОДИВШИХ В РАЗНЫЕ ХРЕСТОМАТИИ"
   ]
  },
  {
   "cell_type": "code",
   "execution_count": 46,
   "id": "a4e2d86d",
   "metadata": {},
   "outputs": [],
   "source": [
    "df_peers=pd.DataFrame(columns=['author', 'count'])\n",
    "peers_data = peers\n",
    "for i in peers_data['author'].unique():\n",
    "    df_peers.loc[ len(df_peers.index )] = [i, peers_data[peers_data['author'] == i][[' compiler', 'kind_of_book']].value_counts().rename({'kind_of_book':'count'}).reset_index()['kind_of_book'].shape[0]]"
   ]
  },
  {
   "cell_type": "code",
   "execution_count": 47,
   "id": "5993f8cd",
   "metadata": {},
   "outputs": [
    {
     "data": {
      "image/png": "[encoded data removed]",
      "text/plain": [
       "<Figure size 1080x720 with 1 Axes>"
      ]
     },
     "metadata": {
      "needs_background": "light"
     },
     "output_type": "display_data"
    }
   ],
   "source": [
    "df_peers=df_peers.sort_values('count', ascending=False)[0:10]\n",
    "fig, ax = plt.subplots(figsize=[15,10])\n",
    "ax.barh(df_peers['author'], df_peers['count'], color = 'pink')\n",
    "ax.set_title('Популярные авторы-современники по вхождению в разные учебные книги', fontsize=18)\n",
    "ax.set_ylabel('Имена авторов', fontsize=13)\n",
    "ax.set_xlabel('Частота вхождения в данные', fontsize=13)\n",
    "plt.show()"
   ]
  },
  {
   "cell_type": "markdown",
   "id": "3ded8d4f",
   "metadata": {},
   "source": [
    "# Частота произведений авторов-современников популярных в топе ВЫШЕ"
   ]
  },
  {
   "cell_type": "code",
   "execution_count": 22,
   "id": "e045c388",
   "metadata": {},
   "outputs": [],
   "source": [
    "df_top_peers=pd.DataFrame(columns=['author', 'text', 'count'])\n",
    "for i in peers['author'].unique():\n",
    "    for item in peers[peers['author'] == i]['text'].unique():\n",
    "        df_top_peers.loc[ len(df_top_peers.index )] = [i,  item, peers[(peers['author'] == i) & (peers['text'] == item)][[' compiler', 'kind_of_book']].value_counts().rename({'kind_of_book':'count'}).reset_index()['kind_of_book'].shape[0]]"
   ]
  },
  {
   "cell_type": "code",
   "execution_count": 251,
   "id": "24d12439",
   "metadata": {},
   "outputs": [],
   "source": [
    "df_top_peers = df_top_peers[df_top_peers['author'].isin(df_peers['author'])]"
   ]
  },
  {
   "cell_type": "code",
   "execution_count": 252,
   "id": "41529031",
   "metadata": {},
   "outputs": [],
   "source": [
    "df_top_peers.to_excel('частота_произведений_10_популярных_авторов_современников.xlsx')"
   ]
  },
  {
   "cell_type": "code",
   "execution_count": 225,
   "id": "4af41df4",
   "metadata": {},
   "outputs": [],
   "source": [
    "data.to_excel('Новая версия_данные_даши.xlsx')"
   ]
  },
  {
   "cell_type": "markdown",
   "id": "edc3eeda",
   "metadata": {},
   "source": [
    "# Доля женщин"
   ]
  },
  {
   "cell_type": "code",
   "execution_count": 27,
   "id": "6ffac638",
   "metadata": {},
   "outputs": [
    {
     "data": {
      "text/plain": [
       "м            1793\n",
       "undefined     314\n",
       "ж              67\n",
       "э               1\n",
       "Name: gender, dtype: int64"
      ]
     },
     "execution_count": 27,
     "metadata": {},
     "output_type": "execute_result"
    }
   ],
   "source": [
    "data[(~data['author'].isna()) & (data['author']!='фольклор')]['gender'].value_counts()"
   ]
  },
  {
   "cell_type": "code",
   "execution_count": 28,
   "id": "caf55111",
   "metadata": {},
   "outputs": [],
   "source": [
    "data['gender'] = data['gender'].apply(lambda x : 'ж' if x == 'э' else x)"
   ]
  },
  {
   "cell_type": "code",
   "execution_count": 29,
   "id": "631b1d88",
   "metadata": {},
   "outputs": [
    {
     "data": {
      "image/png": "[encoded data removed]",
      "text/plain": [
       "<Figure size 864x576 with 1 Axes>"
      ]
     },
     "metadata": {},
     "output_type": "display_data"
    }
   ],
   "source": [
    "fig, ax = plt.subplots(figsize=[12,8])\n",
    "ax.pie(data[(~data['author'].isna()) & (data['author']!='фольклор')]['gender'].value_counts(), labels = data[(~data['author'].isna()) & (data['author']!='фольклор')]['gender'].value_counts().index, autopct='%.2f%%')\n",
    "ax.set_title('', fontsize=16)\n",
    "ax.set_title('Соотношение писателей и писательниц', fontsize=16)\n",
    "ax.legend(title = 'Пол')\n",
    "sns.color_palette(\"blend:#EDA\", as_cmap=True)\n",
    "plt.show()"
   ]
  },
  {
   "cell_type": "markdown",
   "id": "57c4d142",
   "metadata": {},
   "source": [
    "# топ-10 женщин писателей (обычный топ)"
   ]
  },
  {
   "cell_type": "code",
   "execution_count": 30,
   "id": "13d0f48f",
   "metadata": {},
   "outputs": [
    {
     "data": {
      "image/png": "[encoded data removed]",
      "text/plain": [
       "<Figure size 1080x720 with 1 Axes>"
      ]
     },
     "metadata": {
      "needs_background": "light"
     },
     "output_type": "display_data"
    }
   ],
   "source": [
    "fig, ax = plt.subplots(figsize=[15,10])\n",
    "women = data[(data['gender'] == 'ж') & (~data['author'].isna()) & (data['author']!='фольклор')]\n",
    "women_top = women['author'].value_counts()[0:10]\n",
    "ax.barh(women_top.index, women_top, color = 'pink')\n",
    "ax.set_title('Какие писательницы вошли в школьный литературный канон первой волны эмиграции?', fontsize=18)\n",
    "ax.set_ylabel('Имена авторов', fontsize=13)\n",
    "ax.set_xlabel('Частота вхождения в данные', fontsize=13)\n",
    "plt.show()"
   ]
  },
  {
   "cell_type": "code",
   "execution_count": 40,
   "id": "23e45713",
   "metadata": {},
   "outputs": [
    {
     "data": {
      "text/plain": [
       "278                   Там\n",
       "909                В лесу\n",
       "916                 Мошки\n",
       "927            Подснежник\n",
       "931      Бабушка и внучка\n",
       "934     Колыбельная песня\n",
       "1284                Мошки\n",
       "1704    Колыбельная песня\n",
       "1796               Грибок\n",
       "1840           Подснежник\n",
       "1863         Троицын день\n",
       "2081                Орехи\n",
       "2121         Светлый день\n",
       "Name: text, dtype: object"
      ]
     },
     "execution_count": 40,
     "metadata": {},
     "output_type": "execute_result"
    }
   ],
   "source": [
    "# произведения Соловьевой\n",
    "data[data['author'].str.contains('Соловьева')]['text']"
   ]
  },
  {
   "cell_type": "markdown",
   "id": "b8e199f1",
   "metadata": {},
   "source": [
    "# топ-10 женщин входивших в разные хрестоматии (уник вхождение)"
   ]
  },
  {
   "cell_type": "code",
   "execution_count": 31,
   "id": "7ddd8f51",
   "metadata": {},
   "outputs": [],
   "source": [
    "df_women = pd.DataFrame(columns=['author', 'count'])\n",
    "for i in women['author'].unique():\n",
    "    df_women.loc[ len(df_women.index )] = [i, women[women['author'] == i][[' compiler', 'kind_of_book']].value_counts().rename({'kind_of_book':'count'}).reset_index()['kind_of_book'].shape[0]]"
   ]
  },
  {
   "cell_type": "code",
   "execution_count": 32,
   "id": "2e23f940",
   "metadata": {},
   "outputs": [
    {
     "data": {
      "image/png": "[encoded data removed]",
      "text/plain": [
       "<Figure size 1080x720 with 1 Axes>"
      ]
     },
     "metadata": {
      "needs_background": "light"
     },
     "output_type": "display_data"
    }
   ],
   "source": [
    "df_women=df_women.sort_values('count', ascending=False)[0:10]\n",
    "fig, ax = plt.subplots(figsize=[15,10])\n",
    "ax.barh(df_women['author'], df_women['count'], color = 'pink')\n",
    "ax.set_title('Популярные женщины-писатели по вхождению в разные учебные книги', fontsize=18)\n",
    "ax.set_ylabel('Имена авторов', fontsize=13)\n",
    "ax.set_xlabel('Частота вхождения в христоматии', fontsize=13)\n",
    "plt.show()"
   ]
  },
  {
   "cell_type": "code",
   "execution_count": 115,
   "id": "c50bb6aa",
   "metadata": {},
   "outputs": [],
   "source": [
    "data.to_excel('Новая версия_данные_даши.xlsx')"
   ]
  },
  {
   "cell_type": "markdown",
   "id": "334ed33b",
   "metadata": {},
   "source": [
    "# Cравнения"
   ]
  },
  {
   "cell_type": "code",
   "execution_count": 1,
   "id": "0aa17e07",
   "metadata": {},
   "outputs": [],
   "source": [
    "import pandas as pd\n"
   ]
  },
  {
   "cell_type": "code",
   "execution_count": 2,
   "id": "d367eb08",
   "metadata": {},
   "outputs": [],
   "source": [
    "data=pd.read_excel('Школьный литературный канон первой волны эмиграции.xlsx')"
   ]
  },
  {
   "cell_type": "code",
   "execution_count": 3,
   "id": "c692c0ba",
   "metadata": {},
   "outputs": [],
   "source": [
    "dorev = pd.read_csv('доревол.csv')\n",
    "sovet = pd.read_csv('советск.csv')"
   ]
  },
  {
   "cell_type": "code",
   "execution_count": 4,
   "id": "9ce35e6b",
   "metadata": {},
   "outputs": [],
   "source": [
    "data['text_1']=data['text'].apply(lambda x: x.strip().lower().replace('!', '').replace('...', '').replace(':', ''))"
   ]
  },
  {
   "cell_type": "code",
   "execution_count": 5,
   "id": "589311dc",
   "metadata": {},
   "outputs": [],
   "source": [
    "dorev['text_1']=dorev['text'].apply(lambda x: x.strip().lower().replace('!', '').replace('...', '').replace(':', ''))"
   ]
  },
  {
   "cell_type": "code",
   "execution_count": 6,
   "id": "c82aa8f0",
   "metadata": {},
   "outputs": [],
   "source": [
    "sovet['text_1']=sovet['title'].apply(lambda x: str(x).strip().lower().replace('!', '').replace('...', '').replace(':', ''))"
   ]
  },
  {
   "cell_type": "code",
   "execution_count": 7,
   "id": "8ca48bef",
   "metadata": {},
   "outputs": [],
   "source": [
    "def two_author(i, a):\n",
    "    if len(data[data['text']==i]['author'].unique()) > 1:\n",
    "        return i+' '+a\n",
    "    else:\n",
    "        return i\n",
    "dorev['text_1'] = dorev[['text_1', 'author']].apply(lambda dorev:two_author(dorev['text_1'], dorev['author']), axis=1)"
   ]
  },
  {
   "cell_type": "code",
   "execution_count": 8,
   "id": "1a820b7d",
   "metadata": {},
   "outputs": [],
   "source": [
    "data['text_1'] = data[['text_1', 'author']].apply(lambda data:two_author(data['text_1'], data['author']), axis=1)"
   ]
  },
  {
   "cell_type": "code",
   "execution_count": 9,
   "id": "2a6dfbe7",
   "metadata": {},
   "outputs": [],
   "source": [
    "sovet['text_1'] = sovet[['text_1', 'author']].apply(lambda sovet:two_author(sovet['text_1'], sovet['author']), axis=1)"
   ]
  },
  {
   "cell_type": "code",
   "execution_count": 10,
   "id": "b05f8384",
   "metadata": {},
   "outputs": [
    {
     "data": {
      "text/plain": [
       "0          жена ямщика\n",
       "1      пожарные собаки\n",
       "2                певцы\n",
       "3                олень\n",
       "4           две собаки\n",
       "            ...       \n",
       "268               саша\n",
       "269             цветок\n",
       "270              чайка\n",
       "271      лягушка и вол\n",
       "272             дорога\n",
       "Length: 273, dtype: object"
      ]
     },
     "execution_count": 10,
     "metadata": {},
     "output_type": "execute_result"
    }
   ],
   "source": [
    "oper = pd.Series(list(set(data['text_1'].value_counts().index) & (set(dorev['text_1'].value_counts().index) - set(sovet['text_1'].value_counts().index))))\n",
    "oper"
   ]
  },
  {
   "cell_type": "code",
   "execution_count": 19,
   "id": "d0c14203",
   "metadata": {},
   "outputs": [],
   "source": [
    "df_all=pd.DataFrame(columns=['author', 'text', 'count'])\n",
    "for i in oper['author'].unique():\n",
    "    for item in oper[oper['author'] == i]['text'].unique():\n",
    "        df_all.loc[ len(df_all.index )] = [i,  item, oper[(oper['author'] == i) & (oper['text'] == item)].shape[0]]"
   ]
  },
  {
   "cell_type": "code",
   "execution_count": 20,
   "id": "f13566eb",
   "metadata": {},
   "outputs": [
    {
     "data": {
      "text/html": [
       "<div>\n",
       "<style scoped>\n",
       "    .dataframe tbody tr th:only-of-type {\n",
       "        vertical-align: middle;\n",
       "    }\n",
       "\n",
       "    .dataframe tbody tr th {\n",
       "        vertical-align: top;\n",
       "    }\n",
       "\n",
       "    .dataframe thead th {\n",
       "        text-align: right;\n",
       "    }\n",
       "</style>\n",
       "<table border=\"1\" class=\"dataframe\">\n",
       "  <thead>\n",
       "    <tr style=\"text-align: right;\">\n",
       "      <th></th>\n",
       "      <th>author</th>\n",
       "      <th>text</th>\n",
       "      <th>count</th>\n",
       "    </tr>\n",
       "  </thead>\n",
       "  <tbody>\n",
       "    <tr>\n",
       "      <th>0</th>\n",
       "      <td>фольклор</td>\n",
       "      <td>Лиса и волк</td>\n",
       "      <td>2</td>\n",
       "    </tr>\n",
       "    <tr>\n",
       "      <th>1</th>\n",
       "      <td>фольклор</td>\n",
       "      <td>Петр Великий</td>\n",
       "      <td>1</td>\n",
       "    </tr>\n",
       "    <tr>\n",
       "      <th>2</th>\n",
       "      <td>фольклор</td>\n",
       "      <td>Кощей бессмертный</td>\n",
       "      <td>1</td>\n",
       "    </tr>\n",
       "    <tr>\n",
       "      <th>3</th>\n",
       "      <td>фольклор</td>\n",
       "      <td>Медведь</td>\n",
       "      <td>1</td>\n",
       "    </tr>\n",
       "    <tr>\n",
       "      <th>4</th>\n",
       "      <td>фольклор</td>\n",
       "      <td>Гуси</td>\n",
       "      <td>1</td>\n",
       "    </tr>\n",
       "    <tr>\n",
       "      <th>...</th>\n",
       "      <td>...</td>\n",
       "      <td>...</td>\n",
       "      <td>...</td>\n",
       "    </tr>\n",
       "    <tr>\n",
       "      <th>318</th>\n",
       "      <td>Ефименко А.</td>\n",
       "      <td>Рыбная ловля</td>\n",
       "      <td>1</td>\n",
       "    </tr>\n",
       "    <tr>\n",
       "      <th>319</th>\n",
       "      <td>Аксаков И.С.</td>\n",
       "      <td>Сельский вечер</td>\n",
       "      <td>1</td>\n",
       "    </tr>\n",
       "    <tr>\n",
       "      <th>320</th>\n",
       "      <td>Чириков Е.Н.</td>\n",
       "      <td>Зимняя дорога</td>\n",
       "      <td>1</td>\n",
       "    </tr>\n",
       "    <tr>\n",
       "      <th>321</th>\n",
       "      <td>Сологуб Ф.К.</td>\n",
       "      <td>Ворона</td>\n",
       "      <td>1</td>\n",
       "    </tr>\n",
       "    <tr>\n",
       "      <th>322</th>\n",
       "      <td>Коринфский А.А.</td>\n",
       "      <td>Тишина</td>\n",
       "      <td>1</td>\n",
       "    </tr>\n",
       "  </tbody>\n",
       "</table>\n",
       "<p>323 rows × 3 columns</p>\n",
       "</div>"
      ],
      "text/plain": [
       "              author               text count\n",
       "0           фольклор        Лиса и волк     2\n",
       "1           фольклор       Петр Великий     1\n",
       "2           фольклор  Кощей бессмертный     1\n",
       "3           фольклор            Медведь     1\n",
       "4           фольклор               Гуси     1\n",
       "..               ...                ...   ...\n",
       "318      Ефименко А.       Рыбная ловля     1\n",
       "319     Аксаков И.С.     Сельский вечер     1\n",
       "320     Чириков Е.Н.      Зимняя дорога     1\n",
       "321     Сологуб Ф.К.             Ворона     1\n",
       "322  Коринфский А.А.             Тишина     1\n",
       "\n",
       "[323 rows x 3 columns]"
      ]
     },
     "execution_count": 20,
     "metadata": {},
     "output_type": "execute_result"
    }
   ],
   "source": [
    "df_all"
   ]
  },
  {
   "cell_type": "code",
   "execution_count": 21,
   "id": "fd26e1c8",
   "metadata": {},
   "outputs": [],
   "source": [
    "df_all.to_excel('исчезнувшие_в совете_но есть в дореве и у нас.xlsx')"
   ]
  },
  {
   "cell_type": "code",
   "execution_count": 12,
   "id": "bdfb0d03",
   "metadata": {},
   "outputs": [],
   "source": [
    "oper = data[data['text_1'].isin(oper)]"
   ]
  },
  {
   "cell_type": "code",
   "execution_count": 18,
   "id": "bc415d54",
   "metadata": {},
   "outputs": [
    {
     "name": "stdout",
     "output_type": "stream",
     "text": [
      "фольклор\n",
      "Кантемир А.Д.\n",
      "Сумароков А.П.\n",
      "Державин Г.Р.\n",
      "Дмитриев И.И.\n",
      "Карамзин Н.М.\n",
      "Крылов И.А.\n",
      "Жуковский В.А.\n",
      "Пушкин А.С.\n",
      "Лермонтов М.Ю.\n",
      "Тургенев И.С.\n",
      "Некрасов Н.А.\n",
      "Чехов А.П.\n",
      "Майков В.И.\n",
      "Никитин И.С.\n",
      "Достоевский Ф.М.\n",
      "Кольцов А.В.\n",
      "Фет А.А.\n",
      "Тютчев Ф.И.\n",
      "Бальмонт К.Д.\n",
      "Ломоносов М.В.\n",
      "Ржевский А.А.\n",
      "Хемницер И.И.\n",
      "Богданович\n",
      "Новиков Н.И.\n",
      "Капнист В.В.\n",
      "Озеров В.А.\n",
      "Шишков А.С.\n",
      "Эзоп (Толстой Л.Н.)\n",
      "undefined\n",
      "Толстой Л.Н.\n",
      "Измайлов А.Е.\n",
      "Короленко В.Г.\n",
      "Горький М.\n",
      "Толстой А.К.\n",
      "Полонский Я.П.\n",
      "Майков А.Н.\n",
      "Тэффи Н.А.\n",
      "Шмелев И.С.\n",
      "К.Р. (Константин Романов)\n",
      "Хомяков А.С.\n",
      "Плещеев А.Н.\n",
      "Мережковский Д.С.\n",
      "Суриков И.З.\n",
      "Вяземский П.А.\n",
      "Огарев Н.П.\n",
      "Городецкий С.М.\n",
      "Апухтин А.Н.\n",
      "Дмитриева В.И.\n",
      "Александрович А.Д.\n",
      "Туманский Ф.А.\n",
      "Елич Е.\n",
      "Гаршин В.М.\n",
      "Белоусов И.А.\n",
      "Берг Н.В.\n",
      "Соловьева П.С.\n",
      "Дрожжин С.Д.\n",
      "Брюсов В.Я\n",
      "Белый А.\n",
      "Мельников-Печерский П.И.\n",
      "Ушинский К.Д.\n",
      "Петерсон К.А.\n",
      "Жадовская Ю.В.\n",
      "Грот Я.К.\n",
      "Греков Н.П.\n",
      "Языков Н.М.\n",
      "Писемский А.Ф.\n",
      "Блок А.А.\n",
      "Григорович Д.В.\n",
      "Альбов М.\n",
      "Бунин И.А.\n",
      "Фофанов К.\n",
      "Величко В.Л.\n",
      "Орлов\n",
      "Замойский П.И.\n",
      "Мей Л.А.\n",
      "Есенин С.А.\n",
      "Ефименко А.\n",
      "Аксаков И.С.\n",
      "Чириков Е.Н.\n",
      "Сологуб Ф.К.\n",
      "Коринфский А.А.\n"
     ]
    }
   ],
   "source": [
    "for i in oper['author'].unique():\n",
    "    print(i)"
   ]
  },
  {
   "cell_type": "code",
   "execution_count": 43,
   "id": "a9fc9945",
   "metadata": {},
   "outputs": [
    {
     "data": {
      "text/plain": [
       "21.608832807570977"
      ]
     },
     "execution_count": 43,
     "metadata": {},
     "output_type": "execute_result"
    }
   ],
   "source": [
    "274/1268*100"
   ]
  },
  {
   "cell_type": "code",
   "execution_count": 25,
   "id": "91387dc8",
   "metadata": {},
   "outputs": [
    {
     "data": {
      "text/plain": [
       "евгений онегин                     28\n",
       "илья муромец                       17\n",
       "мертвые души                       16\n",
       "осень                              15\n",
       "детство                            14\n",
       "                                   ..\n",
       "плоты                               1\n",
       "русалки                             1\n",
       "обычаи этих племен                  1\n",
       "была бы охота - выучиться можно     1\n",
       "слезы зимы                          1\n",
       "Name: text_1, Length: 1504, dtype: int64"
      ]
     },
     "execution_count": 25,
     "metadata": {},
     "output_type": "execute_result"
    }
   ],
   "source": [
    "data['text_1'].value_counts()"
   ]
  },
  {
   "cell_type": "code",
   "execution_count": 26,
   "id": "4d7cea65",
   "metadata": {},
   "outputs": [
    {
     "data": {
      "text/plain": [
       "0      мертвые души\n",
       "1    евгений онегин\n",
       "2           обломов\n",
       "3           детство\n",
       "dtype: object"
      ]
     },
     "execution_count": 26,
     "metadata": {},
     "output_type": "execute_result"
    }
   ],
   "source": [
    "same = pd.Series(list(set(data['text_1'].value_counts()[0:20].index) & (set(dorev['text_1'].value_counts()[0:20].index))))\n",
    "same"
   ]
  },
  {
   "cell_type": "code",
   "execution_count": 31,
   "id": "8acf81f1",
   "metadata": {},
   "outputs": [
    {
     "data": {
      "image/png": "[encoded data removed]",
      "text/plain": [
       "<Figure size 1800x720 with 2 Axes>"
      ]
     },
     "metadata": {
      "needs_background": "light"
     },
     "output_type": "display_data"
    }
   ],
   "source": [
    "fig, axs = plt.subplots(nrows= 1 , ncols= 2, figsize=[25, 10] )\n",
    "fig.suptitle('Топ-20 популярных авторов, вошедших в хрестоматии периода до революции и первой эмиграции', fontsize=20)\n",
    "\n",
    "#add data to plots\n",
    "axs[0].barh(dorev['text_1'].value_counts()[0:20].index, dorev['text_1'].value_counts()[0:20], color = 'pink')\n",
    "axs[0].set_title('Дореволюционный период', fontsize=15)\n",
    "axs[0].set_ylabel('Названия произведений', fontsize=13)\n",
    "axs[0].set_xlabel('Частота вхождения в данные', fontsize=13)\n",
    "for i in dorev['text_1'].value_counts()[0:20].index:\n",
    "    if i in same.to_list():\n",
    "        axs[0].patches[(dorev['text_1'].value_counts()[0:20].index).to_list().index(i)].set_color('red')\n",
    "\n",
    "\n",
    "axs[1].barh(data['text_1'].value_counts()[0:20].index, data['text_1'].value_counts()[0:20], color = 'pink')\n",
    "axs[1].set_title('Первая эмиграция', fontsize=15)\n",
    "axs[1].set_ylabel('Названия произведений', fontsize=13)\n",
    "axs[1].set_xlabel('Частота вхождения в данные', fontsize=13)\n",
    "for i in data['text_1'].value_counts()[0:20].index:\n",
    "    if i in same.to_list():\n",
    "        axs[1].patches[(data['text_1'].value_counts()[0:20].index).to_list().index(i)].set_color('red')\n",
    "\n",
    "plt.show()"
   ]
  },
  {
   "cell_type": "markdown",
   "id": "4fc22890",
   "metadata": {},
   "source": [
    "## Дорев"
   ]
  },
  {
   "cell_type": "markdown",
   "id": "b4c27d09",
   "metadata": {},
   "source": [
    "### Доля одинаковых произведений - доделать когда исправлю все произведения"
   ]
  },
  {
   "cell_type": "code",
   "execution_count": 8,
   "id": "8d44570f",
   "metadata": {},
   "outputs": [],
   "source": [
    "a = list()\n",
    "for i in dorev['text'].unique():\n",
    "    i = i.strip().lower().replace(' ', '').replace('!', '').replace('...', '').replace(':', '')\n",
    "    a.append(i)"
   ]
  },
  {
   "cell_type": "code",
   "execution_count": 9,
   "id": "d0503e94",
   "metadata": {},
   "outputs": [],
   "source": [
    "b = list()\n",
    "for i in data['text'].unique():\n",
    "    i = i.strip().lower().replace(' ', '').replace('!', '').replace('...', '').replace(':', '')\n",
    "    b.append(i)"
   ]
  },
  {
   "cell_type": "code",
   "execution_count": 263,
   "id": "2e6e9bcc",
   "metadata": {},
   "outputs": [
    {
     "data": {
      "text/html": [
       "<div>\n",
       "<style scoped>\n",
       "    .dataframe tbody tr th:only-of-type {\n",
       "        vertical-align: middle;\n",
       "    }\n",
       "\n",
       "    .dataframe tbody tr th {\n",
       "        vertical-align: top;\n",
       "    }\n",
       "\n",
       "    .dataframe thead th {\n",
       "        text-align: right;\n",
       "    }\n",
       "</style>\n",
       "<table border=\"1\" class=\"dataframe\">\n",
       "  <thead>\n",
       "    <tr style=\"text-align: right;\">\n",
       "      <th></th>\n",
       "      <th>0</th>\n",
       "    </tr>\n",
       "  </thead>\n",
       "  <tbody>\n",
       "    <tr>\n",
       "      <th>0</th>\n",
       "      <td>песняосоколе</td>\n",
       "    </tr>\n",
       "    <tr>\n",
       "      <th>1</th>\n",
       "      <td>воробей</td>\n",
       "    </tr>\n",
       "    <tr>\n",
       "      <th>2</th>\n",
       "      <td>сенокос</td>\n",
       "    </tr>\n",
       "    <tr>\n",
       "      <th>3</th>\n",
       "      <td>воздушныйкорабль</td>\n",
       "    </tr>\n",
       "    <tr>\n",
       "      <th>4</th>\n",
       "      <td>ревизор</td>\n",
       "    </tr>\n",
       "    <tr>\n",
       "      <th>...</th>\n",
       "      <td>...</td>\n",
       "    </tr>\n",
       "    <tr>\n",
       "      <th>386</th>\n",
       "      <td>мельник</td>\n",
       "    </tr>\n",
       "    <tr>\n",
       "      <th>387</th>\n",
       "      <td>наволге</td>\n",
       "    </tr>\n",
       "    <tr>\n",
       "      <th>388</th>\n",
       "      <td>ивиковыжуравли</td>\n",
       "    </tr>\n",
       "    <tr>\n",
       "      <th>389</th>\n",
       "      <td>ангел</td>\n",
       "    </tr>\n",
       "    <tr>\n",
       "      <th>390</th>\n",
       "      <td>геройнашеговремени</td>\n",
       "    </tr>\n",
       "  </tbody>\n",
       "</table>\n",
       "<p>391 rows × 1 columns</p>\n",
       "</div>"
      ],
      "text/plain": [
       "                      0\n",
       "0          песняосоколе\n",
       "1               воробей\n",
       "2               сенокос\n",
       "3      воздушныйкорабль\n",
       "4               ревизор\n",
       "..                  ...\n",
       "386             мельник\n",
       "387             наволге\n",
       "388      ивиковыжуравли\n",
       "389               ангел\n",
       "390  геройнашеговремени\n",
       "\n",
       "[391 rows x 1 columns]"
      ]
     },
     "execution_count": 263,
     "metadata": {},
     "output_type": "execute_result"
    }
   ],
   "source": [
    "pd.Series(list(set(a) & set(b))).to_frame()"
   ]
  },
  {
   "cell_type": "code",
   "execution_count": 257,
   "id": "06883b40",
   "metadata": {},
   "outputs": [
    {
     "data": {
      "text/plain": [
       "26.365475387727578"
      ]
     },
     "execution_count": 257,
     "metadata": {},
     "output_type": "execute_result"
    }
   ],
   "source": [
    "# 26.3% - это сколько произведений ИЗ НАШЕГО ДАТАСЕТА СОВПАДАЮТ С ДОРЕВОМ\n",
    "391/len(data['text'].unique())*100"
   ]
  },
  {
   "cell_type": "markdown",
   "id": "dab8c659",
   "metadata": {},
   "source": [
    "### Попялурные авторов - топ-20 обычный"
   ]
  },
  {
   "cell_type": "code",
   "execution_count": 71,
   "id": "7c2b16fe",
   "metadata": {},
   "outputs": [
    {
     "data": {
      "text/plain": [
       "0       Кольцов А.В.\n",
       "1      Державин Г.Р.\n",
       "2        Пушкин А.С.\n",
       "3      Некрасов Н.А.\n",
       "4     Жуковский В.А.\n",
       "5        Гоголь Н.В.\n",
       "6     Лермонтов М.Ю.\n",
       "7        Майков А.Н.\n",
       "8      Тургенев И.С.\n",
       "9        Крылов И.А.\n",
       "10      Толстой Л.Н.\n",
       "11      Толстой А.К.\n",
       "12      Никитин И.С.\n",
       "dtype: object"
      ]
     },
     "execution_count": 71,
     "metadata": {},
     "output_type": "execute_result"
    }
   ],
   "source": [
    "# одинаковые - \n",
    "same = pd.Series(list(set(top_20.index) & (set(dorev['author'].value_counts()[0:20].index))))\n",
    "same"
   ]
  },
  {
   "cell_type": "code",
   "execution_count": 72,
   "id": "29253280",
   "metadata": {},
   "outputs": [
    {
     "data": {
      "text/plain": [
       "0           Екатерина II\n",
       "1            Медведев Л.\n",
       "2             Митчель Л.\n",
       "3                Лебедев\n",
       "4           Аксаков К.С.\n",
       "             ...        \n",
       "228           Рощин Н.Я.\n",
       "229            Марков Е.\n",
       "230    Крандиевская Н.В.\n",
       "231              Беранже\n",
       "232             Льдов К.\n",
       "Length: 233, dtype: object"
      ]
     },
     "execution_count": 72,
     "metadata": {},
     "output_type": "execute_result"
    }
   ],
   "source": [
    "# те, которые не ПОХОЖИ\n",
    "pd.Series(list(set(data['author']) - (set(dorev['author'].value_counts().index))))"
   ]
  },
  {
   "cell_type": "markdown",
   "id": "eb6058b7",
   "metadata": {},
   "source": [
    "# красным отмечены сходства!"
   ]
  },
  {
   "cell_type": "markdown",
   "id": "80858d8a",
   "metadata": {},
   "source": [
    "# обычный топ-20"
   ]
  },
  {
   "cell_type": "code",
   "execution_count": 383,
   "id": "ec646c0f",
   "metadata": {},
   "outputs": [
    {
     "data": {
      "image/png": "[encoded data removed]",
      "text/plain": [
       "<Figure size 1800x720 with 2 Axes>"
      ]
     },
     "metadata": {
      "needs_background": "light"
     },
     "output_type": "display_data"
    }
   ],
   "source": [
    "fig, axs = plt.subplots(nrows= 1 , ncols= 2, figsize=[25, 10] )\n",
    "fig.suptitle('Топ-20 популярных авторов, вошедших в хрестоматии периода до революции и первой эмиграции', fontsize=20)\n",
    "\n",
    "#add data to plots\n",
    "axs[0].barh(dorev['author'].value_counts()[0:20].index, dorev['author'].value_counts()[0:20], color = 'pink')\n",
    "axs[0].set_title('Дореволюционный период', fontsize=15)\n",
    "axs[0].set_ylabel('Имена авторов', fontsize=13)\n",
    "axs[0].set_xlabel('Частота вхождения в данные', fontsize=13)\n",
    "for i in dorev['author'].value_counts()[0:20].index:\n",
    "    if i in same.to_list():\n",
    "        axs[0].patches[(dorev['author'].value_counts()[0:20].index).to_list().index(i)].set_color('red')\n",
    "\n",
    "\n",
    "axs[1].barh(top_20.index, top_20, color = 'pink')\n",
    "axs[1].set_title('Первая эмиграция', fontsize=15)\n",
    "axs[1].set_ylabel('Имена авторов', fontsize=13)\n",
    "axs[1].set_xlabel('Частота вхождения в данные', fontsize=13)\n",
    "for i in top_20.index:\n",
    "    if i in same.to_list():\n",
    "        axs[1].patches[(top_20.index).to_list().index(i)].set_color('red')\n",
    "\n",
    "plt.show()"
   ]
  },
  {
   "cell_type": "code",
   "execution_count": 326,
   "id": "fe7edee2",
   "metadata": {},
   "outputs": [],
   "source": [
    "# Гипотеза:\n",
    "author_90_12 = dorev[(dorev['year'] >= 1890) & (dorev['year'] <=1912)]['author']"
   ]
  },
  {
   "cell_type": "code",
   "execution_count": 335,
   "id": "9c8e33e0",
   "metadata": {},
   "outputs": [
    {
     "data": {
      "text/plain": [
       "75"
      ]
     },
     "execution_count": 335,
     "metadata": {},
     "output_type": "execute_result"
    }
   ],
   "source": [
    "# 75 из 142\n",
    "len(set(author_90_12)&set(data['author'].to_list()))"
   ]
  },
  {
   "cell_type": "code",
   "execution_count": 337,
   "id": "1a32ff9f",
   "metadata": {},
   "outputs": [
    {
     "data": {
      "text/plain": [
       "{'Аксаков И.С.',\n",
       " 'Аксаков С.Т.',\n",
       " 'Апухтин А.Н.',\n",
       " 'Баратынский Е.А.',\n",
       " 'Белинский В.Г.',\n",
       " 'Берг Н.В.',\n",
       " 'Богданов М.',\n",
       " 'Величко В.Л.',\n",
       " 'Вяземский П.А.',\n",
       " 'Гарин-Михайловский Н.Г.',\n",
       " 'Гаршин В.М.',\n",
       " 'Гоголь Н.В.',\n",
       " 'Гончаров И.А.',\n",
       " 'Горький М.',\n",
       " 'Греков Н.П.',\n",
       " 'Грибоедов А.С.',\n",
       " 'Григорович Д.В.',\n",
       " 'Грот Я.К.',\n",
       " 'Даль В.И.',\n",
       " 'Данилевский Г.П.',\n",
       " 'Державин Г.Р.',\n",
       " 'Дмитриев И.И.',\n",
       " 'Достоевский Ф.М.',\n",
       " 'Дрожжин С.Д.',\n",
       " 'Жадовская Ю.В.',\n",
       " 'Жемчужников А.М.',\n",
       " 'Жуковский В.А.',\n",
       " 'Загоскин М.Н.',\n",
       " 'Засодимский П.В.',\n",
       " 'Измайлов А.Е.',\n",
       " 'Кантемир А.Д.',\n",
       " 'Карамзин Н.М.',\n",
       " 'Козлов И.И.',\n",
       " 'Кольцов А.В.',\n",
       " 'Коринфский А.А.',\n",
       " 'Короленко В.Г.',\n",
       " 'Крылов И.А.',\n",
       " 'Лермонтов М.Ю.',\n",
       " 'Лесков Н.С.',\n",
       " 'Ломоносов М.В.',\n",
       " 'Майков А.Н.',\n",
       " 'Мамин-Сибиряк Д.Н.',\n",
       " 'Мей Л.А.',\n",
       " 'Михайлов А.К.',\n",
       " 'Модзалевский Л.Н.',\n",
       " 'Надсон С.Я.',\n",
       " 'Некрасов Н.А.',\n",
       " 'Никитин И.С.',\n",
       " 'Огарев Н.П.',\n",
       " 'Одоевский В.Ф.',\n",
       " 'Озеров В.А.',\n",
       " 'Островский А.Н.',\n",
       " 'Писемский А.Ф.',\n",
       " 'Плещеев А.Н.',\n",
       " 'Полонский Я.П.',\n",
       " 'Пушкин А.С.',\n",
       " 'Пушкин В.Л.',\n",
       " 'Салтыков-Щедрин М.Е.',\n",
       " 'Сумароков А.П.',\n",
       " 'Суриков И.З.',\n",
       " 'Телешов Н.Д.',\n",
       " 'Толстой А.К.',\n",
       " 'Толстой Л.Н.',\n",
       " 'Туманский Ф.А.',\n",
       " 'Тургенев И.С.',\n",
       " 'Тютчев Ф.И.',\n",
       " 'Фет А.А.',\n",
       " 'Фонвизин Д.И.',\n",
       " 'Фофанов К.М.',\n",
       " 'Хемницер И.И.',\n",
       " 'Херасков М.М.',\n",
       " 'Хомяков А.С.',\n",
       " 'Чехов А.П.',\n",
       " 'Шишков А.С.',\n",
       " 'Языков Н.М.'}"
      ]
     },
     "execution_count": 337,
     "metadata": {},
     "output_type": "execute_result"
    }
   ],
   "source": [
    "set(author_90_12)&set(data['author'].to_list())"
   ]
  },
  {
   "cell_type": "markdown",
   "id": "614cbc73",
   "metadata": {},
   "source": [
    "# Совет"
   ]
  },
  {
   "cell_type": "code",
   "execution_count": 405,
   "id": "a7f27bb4",
   "metadata": {},
   "outputs": [
    {
     "data": {
      "text/plain": [
       "{nan,\n",
       " 'Баратынский Е.А.',\n",
       " 'Белинский В.Г.',\n",
       " 'Белый А.',\n",
       " 'Блок А.А.',\n",
       " 'Бунин И.А.',\n",
       " 'Вересаев В.В.',\n",
       " 'Гоголь Н.В.',\n",
       " 'Гончаров И.А.',\n",
       " 'Горький М.',\n",
       " 'Грибоедов А.С.',\n",
       " 'Державин Г.Р.',\n",
       " 'Добролюбов Н.А.',\n",
       " 'Достоевский Ф.М.',\n",
       " 'Есенин С.А.',\n",
       " 'Жуковский В.А.',\n",
       " 'Карамзин Н.М.',\n",
       " 'Кольцов А.В.',\n",
       " 'Короленко В.Г.',\n",
       " 'Крылов И.А.',\n",
       " 'Куприн А.И.',\n",
       " 'Лацис В.',\n",
       " 'Лермонтов М.Ю.',\n",
       " 'Лесков Н.С.',\n",
       " 'Ломоносов М.В.',\n",
       " 'Майков А.Н.',\n",
       " 'Мережковский Д.С.',\n",
       " 'Некрасов Н.А.',\n",
       " 'Островский А.Н.',\n",
       " 'Плещеев А.Н.',\n",
       " 'Пушкин А.С.',\n",
       " 'Радищев А.Н.',\n",
       " 'Салтыков-Щедрин М.Е.',\n",
       " 'Сологуб Ф.К.',\n",
       " 'Толстой А.Н.',\n",
       " 'Толстой Л.Н.',\n",
       " 'Тургенев И.С.',\n",
       " 'Тютчев Ф.И.',\n",
       " 'Фет А.А.',\n",
       " 'Фонвизин Д.И.',\n",
       " 'Чернышевский Н.Г.',\n",
       " 'Чехов А.П.',\n",
       " 'Эренбург И.Г.'}"
      ]
     },
     "execution_count": 405,
     "metadata": {},
     "output_type": "execute_result"
    }
   ],
   "source": [
    "# были и там и там (с 1986)\n",
    "sovet['year'] = sovet['year'].apply(lambda x: 0 if x == '1937-38' else int(x))\n",
    "# оставить современников\n",
    "a = sovet[(sovet['year'] >= 1986)]\n",
    "set(a['author'].unique()) & set(data['author'].unique()) "
   ]
  },
  {
   "cell_type": "code",
   "execution_count": 74,
   "id": "8cc3999c",
   "metadata": {},
   "outputs": [],
   "source": [
    "sovet = sovet.fillna(0)"
   ]
  },
  {
   "cell_type": "code",
   "execution_count": 77,
   "id": "f9b7eb02",
   "metadata": {},
   "outputs": [
    {
     "data": {
      "text/html": [
       "<div>\n",
       "<style scoped>\n",
       "    .dataframe tbody tr th:only-of-type {\n",
       "        vertical-align: middle;\n",
       "    }\n",
       "\n",
       "    .dataframe tbody tr th {\n",
       "        vertical-align: top;\n",
       "    }\n",
       "\n",
       "    .dataframe thead th {\n",
       "        text-align: right;\n",
       "    }\n",
       "</style>\n",
       "<table border=\"1\" class=\"dataframe\">\n",
       "  <thead>\n",
       "    <tr style=\"text-align: right;\">\n",
       "      <th></th>\n",
       "      <th>author</th>\n",
       "      <th>title</th>\n",
       "      <th>comment</th>\n",
       "      <th>curriculum</th>\n",
       "      <th>id</th>\n",
       "      <th>year</th>\n",
       "      <th>grade</th>\n",
       "      <th>priority</th>\n",
       "    </tr>\n",
       "  </thead>\n",
       "  <tbody>\n",
       "    <tr>\n",
       "      <th>0</th>\n",
       "      <td>Андреев Л.Н.</td>\n",
       "      <td>Жили-были</td>\n",
       "      <td>0</td>\n",
       "      <td>19 ИРЛ 2 ст</td>\n",
       "      <td>1</td>\n",
       "      <td>1919</td>\n",
       "      <td>9</td>\n",
       "      <td>0</td>\n",
       "    </tr>\n",
       "    <tr>\n",
       "      <th>1</th>\n",
       "      <td>Андреев Л.Н.</td>\n",
       "      <td>Иуда</td>\n",
       "      <td>0</td>\n",
       "      <td>19 ИРЛ 2 ст</td>\n",
       "      <td>1</td>\n",
       "      <td>1919</td>\n",
       "      <td>9</td>\n",
       "      <td>0</td>\n",
       "    </tr>\n",
       "    <tr>\n",
       "      <th>2</th>\n",
       "      <td>Андреев Л.Н.</td>\n",
       "      <td>Рассказ о семи повешенных</td>\n",
       "      <td>0</td>\n",
       "      <td>19 ИРЛ 2 ст</td>\n",
       "      <td>1</td>\n",
       "      <td>1919</td>\n",
       "      <td>9</td>\n",
       "      <td>*</td>\n",
       "    </tr>\n",
       "    <tr>\n",
       "      <th>3</th>\n",
       "      <td>Бальмонт К.Д.</td>\n",
       "      <td>0</td>\n",
       "      <td>0</td>\n",
       "      <td>19 ИРЛ 2 ст</td>\n",
       "      <td>1</td>\n",
       "      <td>1919</td>\n",
       "      <td>9</td>\n",
       "      <td>*</td>\n",
       "    </tr>\n",
       "    <tr>\n",
       "      <th>4</th>\n",
       "      <td>Брюсов В.Я.</td>\n",
       "      <td>0</td>\n",
       "      <td>0</td>\n",
       "      <td>19 ИРЛ 2 ст</td>\n",
       "      <td>1</td>\n",
       "      <td>1919</td>\n",
       "      <td>9</td>\n",
       "      <td>*</td>\n",
       "    </tr>\n",
       "    <tr>\n",
       "      <th>...</th>\n",
       "      <td>...</td>\n",
       "      <td>...</td>\n",
       "      <td>...</td>\n",
       "      <td>...</td>\n",
       "      <td>...</td>\n",
       "      <td>...</td>\n",
       "      <td>...</td>\n",
       "      <td>...</td>\n",
       "    </tr>\n",
       "    <tr>\n",
       "      <th>10301</th>\n",
       "      <td>Шиллер Ф.</td>\n",
       "      <td>Разбойники</td>\n",
       "      <td>0</td>\n",
       "      <td>91 ПСОУЗ</td>\n",
       "      <td>50</td>\n",
       "      <td>1991</td>\n",
       "      <td>9</td>\n",
       "      <td>0</td>\n",
       "    </tr>\n",
       "    <tr>\n",
       "      <th>10302</th>\n",
       "      <td>Эсхил</td>\n",
       "      <td>Прометей прикованный</td>\n",
       "      <td>0</td>\n",
       "      <td>91 ПСОУЗ</td>\n",
       "      <td>50</td>\n",
       "      <td>1991</td>\n",
       "      <td>9</td>\n",
       "      <td>0</td>\n",
       "    </tr>\n",
       "    <tr>\n",
       "      <th>10303</th>\n",
       "      <td>Достоевский Ф.М.</td>\n",
       "      <td>Преступление и наказание</td>\n",
       "      <td>0</td>\n",
       "      <td>91 ПСОУЗ</td>\n",
       "      <td>50</td>\n",
       "      <td>1991</td>\n",
       "      <td>10</td>\n",
       "      <td>0</td>\n",
       "    </tr>\n",
       "    <tr>\n",
       "      <th>10304</th>\n",
       "      <td>Куприн А.И.</td>\n",
       "      <td>Гранатовый браслет</td>\n",
       "      <td>0</td>\n",
       "      <td>91 ПСОУЗ</td>\n",
       "      <td>50</td>\n",
       "      <td>1991</td>\n",
       "      <td>11</td>\n",
       "      <td>*</td>\n",
       "    </tr>\n",
       "    <tr>\n",
       "      <th>10305</th>\n",
       "      <td>Некрасов Н.А.</td>\n",
       "      <td>Коробейники</td>\n",
       "      <td>0</td>\n",
       "      <td>91 ПСОУЗ</td>\n",
       "      <td>50</td>\n",
       "      <td>1991</td>\n",
       "      <td>10</td>\n",
       "      <td>*</td>\n",
       "    </tr>\n",
       "  </tbody>\n",
       "</table>\n",
       "<p>10306 rows × 8 columns</p>\n",
       "</div>"
      ],
      "text/plain": [
       "                 author                      title comment   curriculum  id  \\\n",
       "0          Андреев Л.Н.                  Жили-были       0  19 ИРЛ 2 ст   1   \n",
       "1          Андреев Л.Н.                       Иуда       0  19 ИРЛ 2 ст   1   \n",
       "2          Андреев Л.Н.  Рассказ о семи повешенных       0  19 ИРЛ 2 ст   1   \n",
       "3         Бальмонт К.Д.                          0       0  19 ИРЛ 2 ст   1   \n",
       "4           Брюсов В.Я.                          0       0  19 ИРЛ 2 ст   1   \n",
       "...                 ...                        ...     ...          ...  ..   \n",
       "10301         Шиллер Ф.                 Разбойники       0     91 ПСОУЗ  50   \n",
       "10302             Эсхил       Прометей прикованный       0     91 ПСОУЗ  50   \n",
       "10303  Достоевский Ф.М.   Преступление и наказание       0     91 ПСОУЗ  50   \n",
       "10304       Куприн А.И.         Гранатовый браслет       0     91 ПСОУЗ  50   \n",
       "10305     Некрасов Н.А.                Коробейники       0     91 ПСОУЗ  50   \n",
       "\n",
       "       year  grade priority  \n",
       "0      1919      9        0  \n",
       "1      1919      9        0  \n",
       "2      1919      9        *  \n",
       "3      1919      9        *  \n",
       "4      1919      9        *  \n",
       "...     ...    ...      ...  \n",
       "10301  1991      9        0  \n",
       "10302  1991      9        0  \n",
       "10303  1991     10        0  \n",
       "10304  1991     11        *  \n",
       "10305  1991     10        *  \n",
       "\n",
       "[10306 rows x 8 columns]"
      ]
     },
     "execution_count": 77,
     "metadata": {},
     "output_type": "execute_result"
    }
   ],
   "source": [
    "sovet"
   ]
  },
  {
   "cell_type": "code",
   "execution_count": 79,
   "id": "d93373b8",
   "metadata": {},
   "outputs": [
    {
     "data": {
      "text/html": [
       "<div>\n",
       "<style scoped>\n",
       "    .dataframe tbody tr th:only-of-type {\n",
       "        vertical-align: middle;\n",
       "    }\n",
       "\n",
       "    .dataframe tbody tr th {\n",
       "        vertical-align: top;\n",
       "    }\n",
       "\n",
       "    .dataframe thead th {\n",
       "        text-align: right;\n",
       "    }\n",
       "</style>\n",
       "<table border=\"1\" class=\"dataframe\">\n",
       "  <thead>\n",
       "    <tr style=\"text-align: right;\">\n",
       "      <th></th>\n",
       "      <th>author</th>\n",
       "      <th>title</th>\n",
       "      <th>comment</th>\n",
       "      <th>curriculum</th>\n",
       "      <th>id</th>\n",
       "      <th>year</th>\n",
       "      <th>grade</th>\n",
       "      <th>priority</th>\n",
       "    </tr>\n",
       "  </thead>\n",
       "  <tbody>\n",
       "    <tr>\n",
       "      <th>9821</th>\n",
       "      <td>Баратынский Е.А.</td>\n",
       "      <td>Бал</td>\n",
       "      <td>0</td>\n",
       "      <td>91 ПСОУЗ</td>\n",
       "      <td>50</td>\n",
       "      <td>1991</td>\n",
       "      <td>9</td>\n",
       "      <td>0</td>\n",
       "    </tr>\n",
       "    <tr>\n",
       "      <th>9822</th>\n",
       "      <td>Баратынский Е.А.</td>\n",
       "      <td>К чему невольнику мечтания свободы?..</td>\n",
       "      <td>0</td>\n",
       "      <td>91 ПСОУЗ</td>\n",
       "      <td>50</td>\n",
       "      <td>1991</td>\n",
       "      <td>9</td>\n",
       "      <td>0</td>\n",
       "    </tr>\n",
       "    <tr>\n",
       "      <th>9823</th>\n",
       "      <td>Баратынский Е.А.</td>\n",
       "      <td>Мой дар убог…</td>\n",
       "      <td>0</td>\n",
       "      <td>91 ПСОУЗ</td>\n",
       "      <td>50</td>\n",
       "      <td>1991</td>\n",
       "      <td>9</td>\n",
       "      <td>0</td>\n",
       "    </tr>\n",
       "    <tr>\n",
       "      <th>9824</th>\n",
       "      <td>Баратынский Е.А.</td>\n",
       "      <td>Муза</td>\n",
       "      <td>0</td>\n",
       "      <td>91 ПСОУЗ</td>\n",
       "      <td>50</td>\n",
       "      <td>1991</td>\n",
       "      <td>9</td>\n",
       "      <td>0</td>\n",
       "    </tr>\n",
       "    <tr>\n",
       "      <th>9825</th>\n",
       "      <td>Баратынский Е.А.</td>\n",
       "      <td>Скульптор</td>\n",
       "      <td>0</td>\n",
       "      <td>91 ПСОУЗ</td>\n",
       "      <td>50</td>\n",
       "      <td>1991</td>\n",
       "      <td>9</td>\n",
       "      <td>0</td>\n",
       "    </tr>\n",
       "  </tbody>\n",
       "</table>\n",
       "</div>"
      ],
      "text/plain": [
       "                author                                  title comment  \\\n",
       "9821  Баратынский Е.А.                                    Бал       0   \n",
       "9822  Баратынский Е.А.  К чему невольнику мечтания свободы?..       0   \n",
       "9823  Баратынский Е.А.                          Мой дар убог…       0   \n",
       "9824  Баратынский Е.А.                                   Муза       0   \n",
       "9825  Баратынский Е.А.                              Скульптор       0   \n",
       "\n",
       "     curriculum  id  year  grade priority  \n",
       "9821   91 ПСОУЗ  50  1991      9        0  \n",
       "9822   91 ПСОУЗ  50  1991      9        0  \n",
       "9823   91 ПСОУЗ  50  1991      9        0  \n",
       "9824   91 ПСОУЗ  50  1991      9        0  \n",
       "9825   91 ПСОУЗ  50  1991      9        0  "
      ]
     },
     "execution_count": 79,
     "metadata": {},
     "output_type": "execute_result"
    }
   ],
   "source": [
    "sovet[sovet['author'] == 'Баратынский Е.А.']"
   ]
  },
  {
   "cell_type": "code",
   "execution_count": 404,
   "id": "8ae53b8a",
   "metadata": {},
   "outputs": [
    {
     "data": {
      "text/plain": [
       "{'Баратынский Е.А.', 'Мережковский Д.С.', 'Плещеев А.Н.', 'Сологуб Ф.К.'}"
      ]
     },
     "execution_count": 404,
     "metadata": {},
     "output_type": "execute_result"
    }
   ],
   "source": [
    "# не было, но вернулись потом\n",
    "sovet['year'] = sovet['year'].apply(lambda x: 0 if x == '1937-38' else int(x))\n",
    "a = sovet[(sovet['year'] >= 1986)]\n",
    "set(a['author'].unique()) & set(data['author'].unique()) - set(sovet[(sovet['year'] <1986)]['author'].unique())"
   ]
  },
  {
   "cell_type": "code",
   "execution_count": 403,
   "id": "4b08a446",
   "metadata": {},
   "outputs": [
    {
     "data": {
      "text/plain": [
       "316"
      ]
     },
     "execution_count": 403,
     "metadata": {},
     "output_type": "execute_result"
    }
   ],
   "source": [
    "len(data['author'].unique())"
   ]
  },
  {
   "cell_type": "markdown",
   "id": "06a3594a",
   "metadata": {},
   "source": [
    "# Полные произведения и их жанры"
   ]
  },
  {
   "cell_type": "code",
   "execution_count": 53,
   "id": "a19d2b02",
   "metadata": {},
   "outputs": [
    {
     "data": {
      "text/plain": [
       "стихотворение            30.394737\n",
       "undefined                20.877193\n",
       "рассказ                  10.000000\n",
       "басня                     6.885965\n",
       "сказка                    6.008772\n",
       "песня                     4.429825\n",
       "повесть                   4.035088\n",
       "поэма                     3.377193\n",
       "роман                     1.929825\n",
       "былина                    1.666667\n",
       "роман в стихах            1.096491\n",
       "статья                    1.008772\n",
       "ода                       1.008772\n",
       "баллада                   1.008772\n",
       "письмо                    0.657895\n",
       "драма                     0.614035\n",
       "стихотворение в прозе     0.570175\n",
       "комедия                   0.438596\n",
       "элегия                    0.307018\n",
       "быль                      0.307018\n",
       "слово                     0.263158\n",
       "летопись                  0.263158\n",
       "разбойничья псеня         0.219298\n",
       "записки                   0.219298\n",
       "автобиография             0.175439\n",
       "воспоминания              0.175439\n",
       "эссе                      0.131579\n",
       "сатира                    0.131579\n",
       "путешествие               0.131579\n",
       "житие                     0.131579\n",
       "критика                   0.131579\n",
       "трагедия                  0.087719\n",
       "эпиграмма                 0.087719\n",
       "духовный стих             0.087719\n",
       "поучение                  0.087719\n",
       "пьеса                     0.087719\n",
       "колыбельная               0.043860\n",
       "перепелка                 0.043860\n",
       "завещание                 0.043860\n",
       "проза                     0.043860\n",
       "эпистола                  0.043860\n",
       "апокриф                   0.043860\n",
       "очерк                     0.043860\n",
       "история                   0.043860\n",
       "драматическая поэма       0.043860\n",
       "восточная сказка          0.043860\n",
       "народная комедия          0.043860\n",
       "народная легенда          0.043860\n",
       "эстонская сказка          0.043860\n",
       "сонет                     0.043860\n",
       "послание                  0.043860\n",
       "трактат                   0.043860\n",
       "стихотворения             0.043860\n",
       "сказ                      0.043860\n",
       "исторический труд         0.043860\n",
       "легенда                   0.043860\n",
       "народная сказка           0.043860\n",
       "устав                     0.043860\n",
       "Name: genre, dtype: float64"
      ]
     },
     "execution_count": 53,
     "metadata": {},
     "output_type": "execute_result"
    }
   ],
   "source": [
    "# жанры\n",
    "(data['genre'].value_counts(normalize=True)*100)"
   ]
  },
  {
   "cell_type": "code",
   "execution_count": 266,
   "id": "5a13a1c9",
   "metadata": {},
   "outputs": [
    {
     "data": {
      "text/plain": [
       "да     907\n",
       "нет    820\n",
       "Name: whole, dtype: int64"
      ]
     },
     "execution_count": 266,
     "metadata": {},
     "output_type": "execute_result"
    }
   ],
   "source": [
    "# полностью написано или нет\n",
    "data['whole'].value_counts()"
   ]
  },
  {
   "cell_type": "code",
   "execution_count": 58,
   "id": "7efd3016",
   "metadata": {},
   "outputs": [
    {
     "data": {
      "image/png": "[encoded data removed]",
      "text/plain": [
       "<Figure size 1080x720 with 1 Axes>"
      ]
     },
     "metadata": {},
     "output_type": "display_data"
    }
   ],
   "source": [
    "data[data['whole'] == 'да']['genre'].value_counts().reset_index()\n",
    "\n",
    "risk_level = data[data['whole'] == 'да']['genre'].value_counts()[0:5].index\n",
    "fig, ax = plt.subplots(figsize=[15,10])\n",
    "ax.pie(data[data['whole'] == 'да']['genre'].value_counts()[0:5], labels = risk_level, autopct='%.2f%%')\n",
    "ax.set_title('Популярные жанры, которые печатались полностью ', fontsize=16)\n",
    "ax.legend(title = 'Жанры')\n",
    "# sns.color_palette(\"blend:#EDA\", as_cmap=True)\n",
    "plt.show()"
   ]
  },
  {
   "cell_type": "code",
   "execution_count": 265,
   "id": "c0dd62c7",
   "metadata": {},
   "outputs": [
    {
     "data": {
      "image/png": "[encoded data removed]",
      "text/plain": [
       "<Figure size 1080x720 with 1 Axes>"
      ]
     },
     "metadata": {},
     "output_type": "display_data"
    }
   ],
   "source": [
    "data[data['whole'] == 'нет']['genre'].value_counts().reset_index()\n",
    "\n",
    "risk_level = data[data['whole'] == 'нет']['genre'].value_counts()[0:5].index\n",
    "fig, ax = plt.subplots(figsize=[15,10])\n",
    "ax.pie(data[data['whole'] == 'нет']['genre'].value_counts()[0:5], labels = risk_level, autopct='%.2f%%')\n",
    "ax.set_title('Популярные жанры, которые печатались cокращенно ', fontsize=16)\n",
    "ax.legend(title = 'Жанры')\n",
    "# sns.color_palette(\"blend:#EDA\", as_cmap=True)\n",
    "plt.show()"
   ]
  },
  {
   "cell_type": "code",
   "execution_count": 268,
   "id": "2fcfda0e",
   "metadata": {},
   "outputs": [
    {
     "data": {
      "text/plain": [
       "Unnamed: 0               0\n",
       "author                 310\n",
       "gender                 570\n",
       "text                     0\n",
       "title_of_textbook     1922\n",
       "kind_of_literature      41\n",
       "year                   576\n",
       "genre                  476\n",
       "whole                  553\n",
       "retelling              491\n",
       "start_of_textbook     1912\n",
       " compiler                5\n",
       "place_of_edition         5\n",
       "year_of_edition          5\n",
       "level_of_education    1181\n",
       "kind_of_book             5\n",
       "part_of_edition        763\n",
       "notes                 2206\n",
       "biblio_id             2280\n",
       "peers_authors            0\n",
       "dtype: int64"
      ]
     },
     "execution_count": 268,
     "metadata": {},
     "output_type": "execute_result"
    }
   ],
   "source": [
    "data.isna().sum()"
   ]
  },
  {
   "cell_type": "markdown",
   "id": "5a3a844e",
   "metadata": {},
   "source": [
    "# Рига и другие города"
   ]
  },
  {
   "cell_type": "code",
   "execution_count": 60,
   "id": "97e8c2d2",
   "metadata": {},
   "outputs": [],
   "source": [
    "riga = data[data['place_of_edition'] == 'Рига']\n",
    "other = data[data['place_of_edition'] != 'Рига']"
   ]
  },
  {
   "cell_type": "code",
   "execution_count": 61,
   "id": "efcd4255",
   "metadata": {
    "scrolled": false
   },
   "outputs": [
    {
     "name": "stdout",
     "output_type": "stream",
     "text": [
      "Столбец: UNNAMED: 0\n",
      "пересечение: 0\n",
      "чем рига отличается: 2047, 2273, 2093, 2106, 2050, 2155, 2246, 2257, 2276, 2184, 2164, 2279, 2272, 2253, 2083, 2199, 2168, 2097, 2186, 2159\n",
      "________________________\n",
      "Столбец: KIND_OF_LITERATURE\n",
      "пересечение: 4\n",
      "чем рига отличается: критика\n",
      "________________________\n",
      "Столбец: YEAR\n",
      "пересечение: 111\n",
      "чем рига отличается: 1832, 1864, 1877, 1888, 1824, 1829, 186?, 1925, 1868, 1870, 1902, 1822, 188?, 1929, 1821, 1920, 1845, 1844, 1904, 1933\n",
      "________________________\n",
      "Столбец: GENRE\n",
      "пересечение: 26\n",
      "чем рига отличается: воспоминания, эссе, критика, сатира, пьеса, исторический труд, история, сказ, драматическая поэма, стихотворения, апокриф\n",
      "________________________\n",
      "Столбец:  COMPILER\n",
      "пересечение: 0\n",
      "чем рига отличается: Н. Гудков, Е. М. Тихоницкий, Е. А. Андреева, Т. М. Максимович, В. Д. Осмоловский, Н. Гудков, А. Иовлев, Е. Арронет\n",
      "________________________\n"
     ]
    }
   ],
   "source": [
    "# чем в целом отличаются?\n",
    "for i in riga.columns:\n",
    "    if i not in ['author', 'text', 'title_of_textbook', 'start_of_textbook', 'place_of_edition', 'year_of_edition', 'part_of_edition', 'notes'] and len(set(riga[i].value_counts().index) & set(other[i].value_counts().index)) != len(riga[i].value_counts().index):\n",
    "        print(f\"Столбец: {i.upper()}\")\n",
    "        print(f\"пересечение: {len(set(riga[i].value_counts().index) & set(other[i].value_counts().index))}\")\n",
    "        print(f\"чем рига отличается: {', '.join(riga[riga[i].isin(set(riga[i].value_counts().index) - set(other[i].value_counts().index))][i].value_counts()[0:20].index.astype(str))}\")\n",
    "        print('________________________')"
   ]
  },
  {
   "cell_type": "code",
   "execution_count": 62,
   "id": "a554c6d7",
   "metadata": {},
   "outputs": [
    {
     "data": {
      "text/plain": [
       "232"
      ]
     },
     "execution_count": 62,
     "metadata": {},
     "output_type": "execute_result"
    }
   ],
   "source": [
    "# cколько уникальных авторов в риге\n",
    "len(riga['author'].unique())"
   ]
  },
  {
   "cell_type": "code",
   "execution_count": 63,
   "id": "374a026f",
   "metadata": {},
   "outputs": [
    {
     "data": {
      "text/plain": [
       "83"
      ]
     },
     "execution_count": 63,
     "metadata": {},
     "output_type": "execute_result"
    }
   ],
   "source": [
    "# одинаковые авторы в риге и в других - 82 человека \n",
    "len(set(riga['author'].value_counts().index) & set(other['author'].value_counts().index))"
   ]
  },
  {
   "cell_type": "code",
   "execution_count": 66,
   "id": "31f5fb19",
   "metadata": {},
   "outputs": [
    {
     "data": {
      "text/html": [
       "<div>\n",
       "<style scoped>\n",
       "    .dataframe tbody tr th:only-of-type {\n",
       "        vertical-align: middle;\n",
       "    }\n",
       "\n",
       "    .dataframe tbody tr th {\n",
       "        vertical-align: top;\n",
       "    }\n",
       "\n",
       "    .dataframe thead th {\n",
       "        text-align: right;\n",
       "    }\n",
       "</style>\n",
       "<table border=\"1\" class=\"dataframe\">\n",
       "  <thead>\n",
       "    <tr style=\"text-align: right;\">\n",
       "      <th></th>\n",
       "      <th>index</th>\n",
       "      <th>author</th>\n",
       "    </tr>\n",
       "  </thead>\n",
       "  <tbody>\n",
       "    <tr>\n",
       "      <th>0</th>\n",
       "      <td>Григорович Д.В.</td>\n",
       "      <td>11</td>\n",
       "    </tr>\n",
       "    <tr>\n",
       "      <th>1</th>\n",
       "      <td>Немирович-Данченко В.И.</td>\n",
       "      <td>8</td>\n",
       "    </tr>\n",
       "    <tr>\n",
       "      <th>2</th>\n",
       "      <td>Есенин С.А.</td>\n",
       "      <td>6</td>\n",
       "    </tr>\n",
       "    <tr>\n",
       "      <th>3</th>\n",
       "      <td>Островский А.Н.</td>\n",
       "      <td>5</td>\n",
       "    </tr>\n",
       "    <tr>\n",
       "      <th>4</th>\n",
       "      <td>Греков Н.П.</td>\n",
       "      <td>5</td>\n",
       "    </tr>\n",
       "    <tr>\n",
       "      <th>...</th>\n",
       "      <td>...</td>\n",
       "      <td>...</td>\n",
       "    </tr>\n",
       "    <tr>\n",
       "      <th>144</th>\n",
       "      <td>Короленко В.</td>\n",
       "      <td>1</td>\n",
       "    </tr>\n",
       "    <tr>\n",
       "      <th>145</th>\n",
       "      <td>Никитин И.</td>\n",
       "      <td>1</td>\n",
       "    </tr>\n",
       "    <tr>\n",
       "      <th>146</th>\n",
       "      <td>Оболенский Л.Е.</td>\n",
       "      <td>1</td>\n",
       "    </tr>\n",
       "    <tr>\n",
       "      <th>147</th>\n",
       "      <td>Радич</td>\n",
       "      <td>1</td>\n",
       "    </tr>\n",
       "    <tr>\n",
       "      <th>148</th>\n",
       "      <td>Толмачев</td>\n",
       "      <td>1</td>\n",
       "    </tr>\n",
       "  </tbody>\n",
       "</table>\n",
       "<p>149 rows × 2 columns</p>\n",
       "</div>"
      ],
      "text/plain": [
       "                       index  author\n",
       "0            Григорович Д.В.      11\n",
       "1    Немирович-Данченко В.И.       8\n",
       "2                Есенин С.А.       6\n",
       "3            Островский А.Н.       5\n",
       "4                Греков Н.П.       5\n",
       "..                       ...     ...\n",
       "144             Короленко В.       1\n",
       "145               Никитин И.       1\n",
       "146          Оболенский Л.Е.       1\n",
       "147                    Радич       1\n",
       "148                 Толмачев       1\n",
       "\n",
       "[149 rows x 2 columns]"
      ]
     },
     "execution_count": 66,
     "metadata": {},
     "output_type": "execute_result"
    }
   ],
   "source": [
    "# каких авторов печатали только в риге? - топ-20\n",
    "\n",
    "riga[riga['author'].isin(set(riga['author'].value_counts().index) - set(other['author'].value_counts().index))]['author'].value_counts().reset_index().to_excel('писатели')"
   ]
  },
  {
   "cell_type": "code",
   "execution_count": 455,
   "id": "e271865f",
   "metadata": {},
   "outputs": [
    {
     "data": {
      "text/plain": [
       "1147"
      ]
     },
     "execution_count": 455,
     "metadata": {},
     "output_type": "execute_result"
    }
   ],
   "source": [
    "# cколько уникальных произведений в риге\n",
    "len(riga['text'].unique())"
   ]
  },
  {
   "cell_type": "code",
   "execution_count": 456,
   "id": "1a6ff84c",
   "metadata": {},
   "outputs": [
    {
     "data": {
      "text/plain": [
       "198"
      ]
     },
     "execution_count": 456,
     "metadata": {},
     "output_type": "execute_result"
    }
   ],
   "source": [
    "# одинаковые произведения в риге и в других - 198\n",
    "len(set(riga['text'].value_counts().index) & set(other['text'].value_counts().index))"
   ]
  },
  {
   "cell_type": "code",
   "execution_count": 461,
   "id": "09a62ee6",
   "metadata": {},
   "outputs": [
    {
     "data": {
      "text/plain": [
       "text                                         author          \n",
       "Саша                                         Некрасов Н.А.       7\n",
       "Сказка о мертвой царевне и о семи богатырях  Пушкин А.С.         5\n",
       "песни бытовые                                фольклор            4\n",
       "Лето Господне                                Шмелев И.С.         4\n",
       "Бежин луг                                    Тургенев И.С.       4\n",
       "Борис Годунов                                Пушкин А.С.         4\n",
       "Осел и соловей                               Крылов И.А.         4\n",
       "Недоросль                                    Фонвизин Д.И.       3\n",
       "Малиновая вода                               Тургенев И.С.       3\n",
       "Трудолюбивый медведь                         Крылов И.А.         3\n",
       "Кому на Руси жить хорошо                     Некрасов Н.А.       3\n",
       "Школа                                        Михайлов А.К.       3\n",
       "Гуттаперчивый мальчик                        Григорович Д.В.     3\n",
       "Капитанская дочка                            Пушкин А.С.         3\n",
       "Детство Ильи                                 Горький М.          3\n",
       "К зиме                                       Бальмонт К.Д.       3\n",
       "Записки из мертвого дома                     Достоевский Ф.М.    3\n",
       "Шинель                                       Гоголь Н.В.         3\n",
       "Парус                                        Лермонтов М.Ю.      3\n",
       "На волю                                      Баранцевич К.С.     3\n",
       "dtype: int64"
      ]
     },
     "execution_count": 461,
     "metadata": {},
     "output_type": "execute_result"
    }
   ],
   "source": [
    "# каких произведения печатали только в риге? - топ-20\n",
    "\n",
    "riga[riga['text'].isin(set(riga['text'].value_counts().index) - set(other['text'].value_counts().index))][['text', 'author']].value_counts()[0:20]"
   ]
  },
  {
   "cell_type": "markdown",
   "id": "f7c7f093",
   "metadata": {},
   "source": [
    "# Периоды годы"
   ]
  },
  {
   "cell_type": "code",
   "execution_count": 413,
   "id": "e4fb383b",
   "metadata": {},
   "outputs": [],
   "source": [
    "first = data[(data['year_of_edition'] >= 1918) & ((data['year_of_edition'] > 1930))]"
   ]
  },
  {
   "cell_type": "code",
   "execution_count": 416,
   "id": "4c9e9a17",
   "metadata": {},
   "outputs": [],
   "source": [
    "second = data[(data['year_of_edition'] >= 1930) & ((data['year_of_edition'] >= 1938))]"
   ]
  },
  {
   "cell_type": "markdown",
   "id": "ef18fc0b",
   "metadata": {},
   "source": [
    "# топ авторов 1918-1930, 1930-1938"
   ]
  },
  {
   "cell_type": "code",
   "execution_count": 422,
   "id": "4632ebfd",
   "metadata": {},
   "outputs": [
    {
     "data": {
      "text/plain": [
       "фольклор              114\n",
       "Толстой Л.Н.           30\n",
       "Пушкин А.С.            30\n",
       "Ушинский К.Д.          26\n",
       "Крылов И.А.            23\n",
       "Державин Г.Р.          18\n",
       "Лермонтов М.Ю.         15\n",
       "Плещеев А.Н.           14\n",
       "Чехов А.П.             12\n",
       "Некрасов Н.А.          12\n",
       "Никитин И.С.           10\n",
       "Майков А.Н.             9\n",
       "Мамин-Сибиряк Д.Н.      9\n",
       "Бальмонт К.Д.           9\n",
       "Блок А.А.               8\n",
       "Кольцов А.В.            8\n",
       "Толстой А.К.            8\n",
       "Тургенев И.С.           8\n",
       "Сумароков А.П.          7\n",
       "Гоголь Н.В.             7\n",
       "Name: author, dtype: int64"
      ]
     },
     "execution_count": 422,
     "metadata": {},
     "output_type": "execute_result"
    }
   ],
   "source": [
    "# топ 1918-1930\n",
    "first['author'].value_counts()[0:20]"
   ]
  },
  {
   "cell_type": "code",
   "execution_count": 423,
   "id": "d3691811",
   "metadata": {},
   "outputs": [
    {
     "data": {
      "text/plain": [
       "фольклор                   37\n",
       "Толстой Л.Н.               16\n",
       "Плещеев А.Н.               11\n",
       "Крылов И.А.                11\n",
       "Ушинский К.Д.              10\n",
       "Некрасов Н.А.              10\n",
       "Чехов А.П.                 10\n",
       "Мамин-Сибиряк Д.Н.          8\n",
       "Никитин И.С.                7\n",
       "Шмелев И.С.                 7\n",
       "Пушкин А.С.                 7\n",
       "Чириков Е.Н.                6\n",
       "Бальмонт К.Д.               6\n",
       "Лебедев                     5\n",
       "Немирович-Данченко В.И.     5\n",
       "Кольцов А.В.                4\n",
       "Коринфский А.               4\n",
       "Блок А.А.                   4\n",
       "Тургенев И.С.               4\n",
       "Спрудж А.                   4\n",
       "Name: author, dtype: int64"
      ]
     },
     "execution_count": 423,
     "metadata": {},
     "output_type": "execute_result"
    }
   ],
   "source": [
    "# топ 1930-1938\n",
    "second['author'].value_counts()[0:20]"
   ]
  },
  {
   "cell_type": "code",
   "execution_count": 430,
   "id": "55abcb0a",
   "metadata": {},
   "outputs": [
    {
     "data": {
      "text/plain": [
       "0                    Блок А.А.\n",
       "1      Немирович-Данченко В.И.\n",
       "2                 Суриков И.З.\n",
       "3               Насимович А.Ф.\n",
       "4                 Толстой А.К.\n",
       "                ...           \n",
       "109          Мережковский Д.С.\n",
       "110         Мамин-Сибиряк Д.Н.\n",
       "111             Чумаченко А.А.\n",
       "112               Никитин И.С.\n",
       "113               Клокова М.П.\n",
       "Length: 114, dtype: object"
      ]
     },
     "execution_count": 430,
     "metadata": {},
     "output_type": "execute_result"
    }
   ],
   "source": [
    "# одинаковые писатели в 2 периодах - ВСЕ ПИСАТЕЛИ 2 ПЕРИОДА ЕСТЬ В 1 ПЕРИОДЕ\n",
    "pd.Series(list(set(second['author'].value_counts().index) & set(first['author'].value_counts().index)))"
   ]
  },
  {
   "cell_type": "code",
   "execution_count": 443,
   "id": "df8a8de0",
   "metadata": {},
   "outputs": [
    {
     "data": {
      "text/plain": [
       "Державин Г.Р.     18\n",
       "Ломоносов М.В.     7\n",
       "Сумароков А.П.     7\n",
       "Нестор             5\n",
       "Фонвизин Д.И.      4\n",
       "Дмитриев И.И.      3\n",
       "Хемницер И.И.      3\n",
       "Петр I             3\n",
       "Замойский П.И.     3\n",
       "Фофанов К.М.       2\n",
       "Ржевский А.А.      2\n",
       "Михайлов А.К.      2\n",
       "Карамзин Н.М.      2\n",
       "Екатерина II       2\n",
       "Болотов            2\n",
       "Мирович            2\n",
       "Бостром            2\n",
       "Шишков А.С.        2\n",
       "Короленко В.Г.     2\n",
       "Херасков М.М.      1\n",
       "Name: author, dtype: int64"
      ]
     },
     "execution_count": 443,
     "metadata": {},
     "output_type": "execute_result"
    }
   ],
   "source": [
    "# писатели, появившиеся только в 1 периоде - делаю из них топ! \n",
    "first[first['author'].isin(list(set(first['author'].value_counts().index) - set(second['author'].value_counts().index)))]['author'].value_counts()[0:20]"
   ]
  },
  {
   "cell_type": "markdown",
   "id": "a75364de",
   "metadata": {},
   "source": [
    "# топ произведений 1918-1930, 1930-1938"
   ]
  },
  {
   "cell_type": "code",
   "execution_count": 462,
   "id": "26734f4a",
   "metadata": {},
   "outputs": [
    {
     "data": {
      "text/plain": [
       "Илья Муромец                                   7\n",
       "Сказка о мертвой царевне и о семи богатырях    5\n",
       "Евгений Онегин                                 5\n",
       "Степь                                          5\n",
       "Лето Господне                                  4\n",
       "Мертвые души                                   4\n",
       "Обломов                                        4\n",
       "Колыбельная песня                              3\n",
       "Елочка                                         3\n",
       "Оля                                            3\n",
       "Детство                                        3\n",
       "Записки из мертвого дома                       3\n",
       "Кому на Руси жить хорошо?                      3\n",
       "Пасха                                          3\n",
       "Мороз Красный нос                              3\n",
       "Осень                                          3\n",
       "Кто это?                                       3\n",
       "Песня пахаря                                   2\n",
       "Крестьянские дети                              2\n",
       "Помощники                                      2\n",
       "Name: text, dtype: int64"
      ]
     },
     "execution_count": 462,
     "metadata": {},
     "output_type": "execute_result"
    }
   ],
   "source": [
    "first['text'].value_counts()[0:20]"
   ]
  },
  {
   "cell_type": "code",
   "execution_count": 463,
   "id": "c63f60db",
   "metadata": {},
   "outputs": [
    {
     "data": {
      "text/plain": [
       "Степь                        5\n",
       "Лето Господне                4\n",
       "Осень                        3\n",
       "Оля                          3\n",
       "Илья Муромец                 3\n",
       "Зимний вечер                 2\n",
       "Беглец                       2\n",
       "Кто это?                     2\n",
       "Крестьянские дети            2\n",
       "Зимняя дорога                2\n",
       "Весенние грозы               2\n",
       "Кому на Руси жить хорошо?    2\n",
       "Обломов                      2\n",
       "Мороз Красный нос            2\n",
       "Записки из мертвого дома     2\n",
       "Детство                      2\n",
       "Елочка                       2\n",
       "Колыбельная песня            2\n",
       "Дома                         2\n",
       "Помощники                    2\n",
       "Name: text, dtype: int64"
      ]
     },
     "execution_count": 463,
     "metadata": {},
     "output_type": "execute_result"
    }
   ],
   "source": [
    "# топ 1930-1938\n",
    "second['text'].value_counts()[0:20]"
   ]
  },
  {
   "cell_type": "code",
   "execution_count": 464,
   "id": "216da368",
   "metadata": {},
   "outputs": [
    {
     "data": {
      "text/plain": [
       "0          Зимняя ночь в дервене\n",
       "1                      Помощники\n",
       "2                      На базаре\n",
       "3             Школьный спектакль\n",
       "4                        Журавль\n",
       "                 ...            \n",
       "312             Как Комар убился\n",
       "313                       Гадюка\n",
       "314                        Рыбка\n",
       "315    Казачья колыбельная песня\n",
       "316                 Светлый день\n",
       "Length: 317, dtype: object"
      ]
     },
     "execution_count": 464,
     "metadata": {},
     "output_type": "execute_result"
    }
   ],
   "source": [
    "# одинаковые произведения в 2 периодах - ВСЕ ПРОИЗВЕДЕНИЯ 2 ПЕРИОДА ЕСТЬ В 1 ПЕРИОДЕ\n",
    "pd.Series(list(set(second['text'].value_counts().index) & set(first['text'].value_counts().index)))"
   ]
  },
  {
   "cell_type": "code",
   "execution_count": 468,
   "id": "cb54e63d",
   "metadata": {},
   "outputs": [
    {
     "data": {
      "text/html": [
       "<div>\n",
       "<style scoped>\n",
       "    .dataframe tbody tr th:only-of-type {\n",
       "        vertical-align: middle;\n",
       "    }\n",
       "\n",
       "    .dataframe tbody tr th {\n",
       "        vertical-align: top;\n",
       "    }\n",
       "\n",
       "    .dataframe thead th {\n",
       "        text-align: right;\n",
       "    }\n",
       "</style>\n",
       "<table border=\"1\" class=\"dataframe\">\n",
       "  <thead>\n",
       "    <tr style=\"text-align: right;\">\n",
       "      <th></th>\n",
       "      <th></th>\n",
       "      <th>0</th>\n",
       "    </tr>\n",
       "    <tr>\n",
       "      <th>text</th>\n",
       "      <th>author</th>\n",
       "      <th></th>\n",
       "    </tr>\n",
       "  </thead>\n",
       "  <tbody>\n",
       "    <tr>\n",
       "      <th>Мертвые души</th>\n",
       "      <th>Гоголь Н.В.</th>\n",
       "      <td>4</td>\n",
       "    </tr>\n",
       "    <tr>\n",
       "      <th>Смерть Олега</th>\n",
       "      <th>Нестор</th>\n",
       "      <td>2</td>\n",
       "    </tr>\n",
       "    <tr>\n",
       "      <th>За рекою, за быстрою</th>\n",
       "      <th>фольклор</th>\n",
       "      <td>2</td>\n",
       "    </tr>\n",
       "    <tr>\n",
       "      <th>Война и мир</th>\n",
       "      <th>Толстой Л.Н.</th>\n",
       "      <td>2</td>\n",
       "    </tr>\n",
       "    <tr>\n",
       "      <th>Школа</th>\n",
       "      <th>Михайлов А.К.</th>\n",
       "      <td>2</td>\n",
       "    </tr>\n",
       "    <tr>\n",
       "      <th>Летопись Нестора</th>\n",
       "      <th>Нестор</th>\n",
       "      <td>2</td>\n",
       "    </tr>\n",
       "    <tr>\n",
       "      <th>Садко богатый гость</th>\n",
       "      <th>фольклор</th>\n",
       "      <td>2</td>\n",
       "    </tr>\n",
       "    <tr>\n",
       "      <th>Слово о полку Игореве</th>\n",
       "      <th>фольклор</th>\n",
       "      <td>2</td>\n",
       "    </tr>\n",
       "    <tr>\n",
       "      <th>Бирюк</th>\n",
       "      <th>Тургенев И.С.</th>\n",
       "      <td>2</td>\n",
       "    </tr>\n",
       "    <tr>\n",
       "      <th>Письмо А. Г. Орлова-Чесменского своему управляющему, крпеостному Ивану Терентьевичу Кабанову</th>\n",
       "      <th>Орлов-Чесменский А.Г.</th>\n",
       "      <td>1</td>\n",
       "    </tr>\n",
       "    <tr>\n",
       "      <th>Письмо Петра Великого Меньшекову</th>\n",
       "      <th>Петр I</th>\n",
       "      <td>1</td>\n",
       "    </tr>\n",
       "    <tr>\n",
       "      <th>Письмо Петра ВB341еликого царевичу Алексею Петровичу</th>\n",
       "      <th>Петр I</th>\n",
       "      <td>1</td>\n",
       "    </tr>\n",
       "    <tr>\n",
       "      <th>Письмо Ломоносова к И. И. Шувалову</th>\n",
       "      <th>Ломоносов М.В.</th>\n",
       "      <td>1</td>\n",
       "    </tr>\n",
       "    <tr>\n",
       "      <th>Письмо Кн. Цицианова В. И. Зиновьеву, из Петербурга за границу</th>\n",
       "      <th>Цицицанов</th>\n",
       "      <td>1</td>\n",
       "    </tr>\n",
       "    <tr>\n",
       "      <th>Письмо Д. И. Фонвизина к сестре</th>\n",
       "      <th>Фонвизин Д.И.</th>\n",
       "      <td>1</td>\n",
       "    </tr>\n",
       "    <tr>\n",
       "      <th>Письмо А.В. Суворова к дочери</th>\n",
       "      <th>Суворов А.В.</th>\n",
       "      <td>1</td>\n",
       "    </tr>\n",
       "    <tr>\n",
       "      <th>(Какой-то стихотвор - довольно их у нас</th>\n",
       "      <th>Пушкин В.Л.</th>\n",
       "      <td>1</td>\n",
       "    </tr>\n",
       "    <tr>\n",
       "      <th>Письма русского путешественника</th>\n",
       "      <th>Карамзин Н.М.</th>\n",
       "      <td>1</td>\n",
       "    </tr>\n",
       "    <tr>\n",
       "      <th>Петух и собака</th>\n",
       "      <th>фольклор</th>\n",
       "      <td>1</td>\n",
       "    </tr>\n",
       "    <tr>\n",
       "      <th>Петр Великий</th>\n",
       "      <th>фольклор</th>\n",
       "      <td>1</td>\n",
       "    </tr>\n",
       "  </tbody>\n",
       "</table>\n",
       "</div>"
      ],
      "text/plain": [
       "                                                                          0\n",
       "text                                               author                  \n",
       "Мертвые души                                       Гоголь Н.В.            4\n",
       "Смерть Олега                                       Нестор                 2\n",
       "За рекою, за быстрою                               фольклор               2\n",
       "Война и мир                                        Толстой Л.Н.           2\n",
       "Школа                                              Михайлов А.К.          2\n",
       "Летопись Нестора                                   Нестор                 2\n",
       "Садко богатый гость                                фольклор               2\n",
       "Слово о полку Игореве                              фольклор               2\n",
       "Бирюк                                              Тургенев И.С.          2\n",
       "Письмо А. Г. Орлова-Чесменского своему управляю... Орлов-Чесменский А.Г.  1\n",
       "Письмо Петра Великого Меньшекову                   Петр I                 1\n",
       "Письмо Петра ВB341еликого царевичу Алексею Петр... Петр I                 1\n",
       "Письмо Ломоносова к И. И. Шувалову                 Ломоносов М.В.         1\n",
       "Письмо Кн. Цицианова В. И. Зиновьеву, из Петерб... Цицицанов              1\n",
       "Письмо Д. И. Фонвизина к сестре                    Фонвизин Д.И.          1\n",
       "Письмо А.В. Суворова к дочери                      Суворов А.В.           1\n",
       "(Какой-то стихотвор - довольно их у нас            Пушкин В.Л.            1\n",
       "Письма русского путешественника                    Карамзин Н.М.          1\n",
       "Петух и собака                                     фольклор               1\n",
       "Петр Великий                                       фольклор               1"
      ]
     },
     "execution_count": 468,
     "metadata": {},
     "output_type": "execute_result"
    }
   ],
   "source": [
    "# произведения, появившиеся только в 1 периоде - делаю из них топ! \n",
    "first[first['text'].isin(list(set(first['text'].value_counts().index) - set(second['text'].value_counts().index)))][['text', 'author']].value_counts()[0:20].to_frame()"
   ]
  },
  {
   "cell_type": "code",
   "execution_count": null,
   "id": "8d8d7a5f",
   "metadata": {},
   "outputs": [],
   "source": []
  }
 ],
 "metadata": {
  "kernelspec": {
   "display_name": "Python 3 (ipykernel)",
   "language": "python",
   "name": "python3"
  },
  "language_info": {
   "codemirror_mode": {
    "name": "ipython",
    "version": 3
   },
   "file_extension": ".py",
   "mimetype": "text/x-python",
   "name": "python",
   "nbconvert_exporter": "python",
   "pygments_lexer": "ipython3",
   "version": "3.9.7"
  }
 },
 "nbformat": 4,
 "nbformat_minor": 5
}
